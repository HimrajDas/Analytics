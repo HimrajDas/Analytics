{
 "cells": [
  {
   "cell_type": "code",
   "execution_count": 2,
   "metadata": {},
   "outputs": [],
   "source": [
    "import json\n",
    "import numpy as np\n",
    "import pandas as pd"
   ]
  },
  {
   "cell_type": "code",
   "execution_count": 3,
   "metadata": {},
   "outputs": [],
   "source": [
    "db = json.load(open(\"database.json\"))"
   ]
  },
  {
   "cell_type": "code",
   "execution_count": 4,
   "metadata": {},
   "outputs": [
    {
     "data": {
      "text/plain": [
       "6636"
      ]
     },
     "execution_count": 4,
     "metadata": {},
     "output_type": "execute_result"
    }
   ],
   "source": [
    "len(db)"
   ]
  },
  {
   "cell_type": "code",
   "execution_count": 5,
   "metadata": {},
   "outputs": [
    {
     "data": {
      "text/plain": [
       "{'id': 1008,\n",
       " 'description': 'Cheese, caraway',\n",
       " 'tags': [],\n",
       " 'manufacturer': '',\n",
       " 'group': 'Dairy and Egg Products',\n",
       " 'portions': [{'amount': 1, 'unit': 'oz', 'grams': 28.35}],\n",
       " 'nutrients': [{'value': 25.18,\n",
       "   'units': 'g',\n",
       "   'description': 'Protein',\n",
       "   'group': 'Composition'},\n",
       "  {'value': 29.2,\n",
       "   'units': 'g',\n",
       "   'description': 'Total lipid (fat)',\n",
       "   'group': 'Composition'},\n",
       "  {'value': 3.06,\n",
       "   'units': 'g',\n",
       "   'description': 'Carbohydrate, by difference',\n",
       "   'group': 'Composition'},\n",
       "  {'value': 3.28, 'units': 'g', 'description': 'Ash', 'group': 'Other'},\n",
       "  {'value': 376.0,\n",
       "   'units': 'kcal',\n",
       "   'description': 'Energy',\n",
       "   'group': 'Energy'},\n",
       "  {'value': 39.28,\n",
       "   'units': 'g',\n",
       "   'description': 'Water',\n",
       "   'group': 'Composition'},\n",
       "  {'value': 1573.0, 'units': 'kJ', 'description': 'Energy', 'group': 'Energy'},\n",
       "  {'value': 0.0,\n",
       "   'units': 'g',\n",
       "   'description': 'Fiber, total dietary',\n",
       "   'group': 'Composition'},\n",
       "  {'value': 673.0,\n",
       "   'units': 'mg',\n",
       "   'description': 'Calcium, Ca',\n",
       "   'group': 'Elements'},\n",
       "  {'value': 0.64,\n",
       "   'units': 'mg',\n",
       "   'description': 'Iron, Fe',\n",
       "   'group': 'Elements'},\n",
       "  {'value': 22.0,\n",
       "   'units': 'mg',\n",
       "   'description': 'Magnesium, Mg',\n",
       "   'group': 'Elements'},\n",
       "  {'value': 490.0,\n",
       "   'units': 'mg',\n",
       "   'description': 'Phosphorus, P',\n",
       "   'group': 'Elements'},\n",
       "  {'value': 93.0,\n",
       "   'units': 'mg',\n",
       "   'description': 'Potassium, K',\n",
       "   'group': 'Elements'},\n",
       "  {'value': 690.0,\n",
       "   'units': 'mg',\n",
       "   'description': 'Sodium, Na',\n",
       "   'group': 'Elements'},\n",
       "  {'value': 2.94,\n",
       "   'units': 'mg',\n",
       "   'description': 'Zinc, Zn',\n",
       "   'group': 'Elements'},\n",
       "  {'value': 0.024,\n",
       "   'units': 'mg',\n",
       "   'description': 'Copper, Cu',\n",
       "   'group': 'Elements'},\n",
       "  {'value': 0.021,\n",
       "   'units': 'mg',\n",
       "   'description': 'Manganese, Mn',\n",
       "   'group': 'Elements'},\n",
       "  {'value': 14.5,\n",
       "   'units': 'mcg',\n",
       "   'description': 'Selenium, Se',\n",
       "   'group': 'Elements'},\n",
       "  {'value': 1054.0,\n",
       "   'units': 'IU',\n",
       "   'description': 'Vitamin A, IU',\n",
       "   'group': 'Vitamins'},\n",
       "  {'value': 262.0,\n",
       "   'units': 'mcg',\n",
       "   'description': 'Retinol',\n",
       "   'group': 'Vitamins'},\n",
       "  {'value': 271.0,\n",
       "   'units': 'mcg_RAE',\n",
       "   'description': 'Vitamin A, RAE',\n",
       "   'group': 'Vitamins'},\n",
       "  {'value': 0.0,\n",
       "   'units': 'mg',\n",
       "   'description': 'Vitamin C, total ascorbic acid',\n",
       "   'group': 'Vitamins'},\n",
       "  {'value': 0.031,\n",
       "   'units': 'mg',\n",
       "   'description': 'Thiamin',\n",
       "   'group': 'Vitamins'},\n",
       "  {'value': 0.45,\n",
       "   'units': 'mg',\n",
       "   'description': 'Riboflavin',\n",
       "   'group': 'Vitamins'},\n",
       "  {'value': 0.18, 'units': 'mg', 'description': 'Niacin', 'group': 'Vitamins'},\n",
       "  {'value': 0.19,\n",
       "   'units': 'mg',\n",
       "   'description': 'Pantothenic acid',\n",
       "   'group': 'Vitamins'},\n",
       "  {'value': 0.074,\n",
       "   'units': 'mg',\n",
       "   'description': 'Vitamin B-6',\n",
       "   'group': 'Vitamins'},\n",
       "  {'value': 18.0,\n",
       "   'units': 'mcg',\n",
       "   'description': 'Folate, total',\n",
       "   'group': 'Vitamins'},\n",
       "  {'value': 0.27,\n",
       "   'units': 'mcg',\n",
       "   'description': 'Vitamin B-12',\n",
       "   'group': 'Vitamins'},\n",
       "  {'value': 0.0,\n",
       "   'units': 'mcg',\n",
       "   'description': 'Folic acid',\n",
       "   'group': 'Vitamins'},\n",
       "  {'value': 18.0,\n",
       "   'units': 'mcg',\n",
       "   'description': 'Folate, food',\n",
       "   'group': 'Vitamins'},\n",
       "  {'value': 18.0,\n",
       "   'units': 'mcg_DFE',\n",
       "   'description': 'Folate, DFE',\n",
       "   'group': 'Vitamins'},\n",
       "  {'value': 93.0,\n",
       "   'units': 'mg',\n",
       "   'description': 'Cholesterol',\n",
       "   'group': 'Other'},\n",
       "  {'value': 18.584,\n",
       "   'units': 'g',\n",
       "   'description': 'Fatty acids, total saturated',\n",
       "   'group': 'Other'},\n",
       "  {'value': 8.275,\n",
       "   'units': 'g',\n",
       "   'description': 'Fatty acids, total monounsaturated',\n",
       "   'group': 'Other'},\n",
       "  {'value': 0.83,\n",
       "   'units': 'g',\n",
       "   'description': 'Fatty acids, total polyunsaturated',\n",
       "   'group': 'Other'},\n",
       "  {'value': 0.324,\n",
       "   'units': 'g',\n",
       "   'description': 'Tryptophan',\n",
       "   'group': 'Amino Acids'},\n",
       "  {'value': 0.896,\n",
       "   'units': 'g',\n",
       "   'description': 'Threonine',\n",
       "   'group': 'Amino Acids'},\n",
       "  {'value': 1.563,\n",
       "   'units': 'g',\n",
       "   'description': 'Isoleucine',\n",
       "   'group': 'Amino Acids'},\n",
       "  {'value': 2.412,\n",
       "   'units': 'g',\n",
       "   'description': 'Leucine',\n",
       "   'group': 'Amino Acids'},\n",
       "  {'value': 2.095,\n",
       "   'units': 'g',\n",
       "   'description': 'Lysine',\n",
       "   'group': 'Amino Acids'},\n",
       "  {'value': 0.659,\n",
       "   'units': 'g',\n",
       "   'description': 'Methionine',\n",
       "   'group': 'Amino Acids'},\n",
       "  {'value': 0.126,\n",
       "   'units': 'g',\n",
       "   'description': 'Cystine',\n",
       "   'group': 'Amino Acids'},\n",
       "  {'value': 1.326,\n",
       "   'units': 'g',\n",
       "   'description': 'Phenylalanine',\n",
       "   'group': 'Amino Acids'},\n",
       "  {'value': 1.216,\n",
       "   'units': 'g',\n",
       "   'description': 'Tyrosine',\n",
       "   'group': 'Amino Acids'},\n",
       "  {'value': 1.682,\n",
       "   'units': 'g',\n",
       "   'description': 'Valine',\n",
       "   'group': 'Amino Acids'},\n",
       "  {'value': 0.952,\n",
       "   'units': 'g',\n",
       "   'description': 'Arginine',\n",
       "   'group': 'Amino Acids'},\n",
       "  {'value': 0.884,\n",
       "   'units': 'g',\n",
       "   'description': 'Histidine',\n",
       "   'group': 'Amino Acids'},\n",
       "  {'value': 0.711,\n",
       "   'units': 'g',\n",
       "   'description': 'Alanine',\n",
       "   'group': 'Amino Acids'},\n",
       "  {'value': 1.618,\n",
       "   'units': 'g',\n",
       "   'description': 'Aspartic acid',\n",
       "   'group': 'Amino Acids'},\n",
       "  {'value': 6.16,\n",
       "   'units': 'g',\n",
       "   'description': 'Glutamic acid',\n",
       "   'group': 'Amino Acids'},\n",
       "  {'value': 0.439,\n",
       "   'units': 'g',\n",
       "   'description': 'Glycine',\n",
       "   'group': 'Amino Acids'},\n",
       "  {'value': 2.838,\n",
       "   'units': 'g',\n",
       "   'description': 'Proline',\n",
       "   'group': 'Amino Acids'},\n",
       "  {'value': 1.472,\n",
       "   'units': 'g',\n",
       "   'description': 'Serine',\n",
       "   'group': 'Amino Acids'},\n",
       "  {'value': 25.18,\n",
       "   'units': 'g',\n",
       "   'description': 'Protein',\n",
       "   'group': 'Composition'},\n",
       "  {'value': 29.2,\n",
       "   'units': 'g',\n",
       "   'description': 'Total lipid (fat)',\n",
       "   'group': 'Composition'},\n",
       "  {'value': 3.06,\n",
       "   'units': 'g',\n",
       "   'description': 'Carbohydrate, by difference',\n",
       "   'group': 'Composition'},\n",
       "  {'value': 3.28, 'units': 'g', 'description': 'Ash', 'group': 'Other'},\n",
       "  {'value': 376.0,\n",
       "   'units': 'kcal',\n",
       "   'description': 'Energy',\n",
       "   'group': 'Energy'},\n",
       "  {'value': 39.28,\n",
       "   'units': 'g',\n",
       "   'description': 'Water',\n",
       "   'group': 'Composition'},\n",
       "  {'value': 1573.0, 'units': 'kJ', 'description': 'Energy', 'group': 'Energy'},\n",
       "  {'value': 0.0,\n",
       "   'units': 'g',\n",
       "   'description': 'Fiber, total dietary',\n",
       "   'group': 'Composition'},\n",
       "  {'value': 673.0,\n",
       "   'units': 'mg',\n",
       "   'description': 'Calcium, Ca',\n",
       "   'group': 'Elements'},\n",
       "  {'value': 0.64,\n",
       "   'units': 'mg',\n",
       "   'description': 'Iron, Fe',\n",
       "   'group': 'Elements'},\n",
       "  {'value': 22.0,\n",
       "   'units': 'mg',\n",
       "   'description': 'Magnesium, Mg',\n",
       "   'group': 'Elements'},\n",
       "  {'value': 490.0,\n",
       "   'units': 'mg',\n",
       "   'description': 'Phosphorus, P',\n",
       "   'group': 'Elements'},\n",
       "  {'value': 93.0,\n",
       "   'units': 'mg',\n",
       "   'description': 'Potassium, K',\n",
       "   'group': 'Elements'},\n",
       "  {'value': 690.0,\n",
       "   'units': 'mg',\n",
       "   'description': 'Sodium, Na',\n",
       "   'group': 'Elements'},\n",
       "  {'value': 2.94,\n",
       "   'units': 'mg',\n",
       "   'description': 'Zinc, Zn',\n",
       "   'group': 'Elements'},\n",
       "  {'value': 0.024,\n",
       "   'units': 'mg',\n",
       "   'description': 'Copper, Cu',\n",
       "   'group': 'Elements'},\n",
       "  {'value': 0.021,\n",
       "   'units': 'mg',\n",
       "   'description': 'Manganese, Mn',\n",
       "   'group': 'Elements'},\n",
       "  {'value': 14.5,\n",
       "   'units': 'mcg',\n",
       "   'description': 'Selenium, Se',\n",
       "   'group': 'Elements'},\n",
       "  {'value': 1054.0,\n",
       "   'units': 'IU',\n",
       "   'description': 'Vitamin A, IU',\n",
       "   'group': 'Vitamins'},\n",
       "  {'value': 262.0,\n",
       "   'units': 'mcg',\n",
       "   'description': 'Retinol',\n",
       "   'group': 'Vitamins'},\n",
       "  {'value': 271.0,\n",
       "   'units': 'mcg_RAE',\n",
       "   'description': 'Vitamin A, RAE',\n",
       "   'group': 'Vitamins'},\n",
       "  {'value': 0.0,\n",
       "   'units': 'mg',\n",
       "   'description': 'Vitamin C, total ascorbic acid',\n",
       "   'group': 'Vitamins'},\n",
       "  {'value': 0.031,\n",
       "   'units': 'mg',\n",
       "   'description': 'Thiamin',\n",
       "   'group': 'Vitamins'},\n",
       "  {'value': 0.45,\n",
       "   'units': 'mg',\n",
       "   'description': 'Riboflavin',\n",
       "   'group': 'Vitamins'},\n",
       "  {'value': 0.18, 'units': 'mg', 'description': 'Niacin', 'group': 'Vitamins'},\n",
       "  {'value': 0.19,\n",
       "   'units': 'mg',\n",
       "   'description': 'Pantothenic acid',\n",
       "   'group': 'Vitamins'},\n",
       "  {'value': 0.074,\n",
       "   'units': 'mg',\n",
       "   'description': 'Vitamin B-6',\n",
       "   'group': 'Vitamins'},\n",
       "  {'value': 18.0,\n",
       "   'units': 'mcg',\n",
       "   'description': 'Folate, total',\n",
       "   'group': 'Vitamins'},\n",
       "  {'value': 0.27,\n",
       "   'units': 'mcg',\n",
       "   'description': 'Vitamin B-12',\n",
       "   'group': 'Vitamins'},\n",
       "  {'value': 0.0,\n",
       "   'units': 'mcg',\n",
       "   'description': 'Folic acid',\n",
       "   'group': 'Vitamins'},\n",
       "  {'value': 18.0,\n",
       "   'units': 'mcg',\n",
       "   'description': 'Folate, food',\n",
       "   'group': 'Vitamins'},\n",
       "  {'value': 18.0,\n",
       "   'units': 'mcg_DFE',\n",
       "   'description': 'Folate, DFE',\n",
       "   'group': 'Vitamins'},\n",
       "  {'value': 0.324,\n",
       "   'units': 'g',\n",
       "   'description': 'Tryptophan',\n",
       "   'group': 'Amino Acids'},\n",
       "  {'value': 0.896,\n",
       "   'units': 'g',\n",
       "   'description': 'Threonine',\n",
       "   'group': 'Amino Acids'},\n",
       "  {'value': 1.563,\n",
       "   'units': 'g',\n",
       "   'description': 'Isoleucine',\n",
       "   'group': 'Amino Acids'},\n",
       "  {'value': 2.412,\n",
       "   'units': 'g',\n",
       "   'description': 'Leucine',\n",
       "   'group': 'Amino Acids'},\n",
       "  {'value': 2.095,\n",
       "   'units': 'g',\n",
       "   'description': 'Lysine',\n",
       "   'group': 'Amino Acids'},\n",
       "  {'value': 0.659,\n",
       "   'units': 'g',\n",
       "   'description': 'Methionine',\n",
       "   'group': 'Amino Acids'},\n",
       "  {'value': 0.126,\n",
       "   'units': 'g',\n",
       "   'description': 'Cystine',\n",
       "   'group': 'Amino Acids'},\n",
       "  {'value': 1.326,\n",
       "   'units': 'g',\n",
       "   'description': 'Phenylalanine',\n",
       "   'group': 'Amino Acids'},\n",
       "  {'value': 1.216,\n",
       "   'units': 'g',\n",
       "   'description': 'Tyrosine',\n",
       "   'group': 'Amino Acids'},\n",
       "  {'value': 1.682,\n",
       "   'units': 'g',\n",
       "   'description': 'Valine',\n",
       "   'group': 'Amino Acids'},\n",
       "  {'value': 0.952,\n",
       "   'units': 'g',\n",
       "   'description': 'Arginine',\n",
       "   'group': 'Amino Acids'},\n",
       "  {'value': 0.884,\n",
       "   'units': 'g',\n",
       "   'description': 'Histidine',\n",
       "   'group': 'Amino Acids'},\n",
       "  {'value': 0.711,\n",
       "   'units': 'g',\n",
       "   'description': 'Alanine',\n",
       "   'group': 'Amino Acids'},\n",
       "  {'value': 1.618,\n",
       "   'units': 'g',\n",
       "   'description': 'Aspartic acid',\n",
       "   'group': 'Amino Acids'},\n",
       "  {'value': 6.16,\n",
       "   'units': 'g',\n",
       "   'description': 'Glutamic acid',\n",
       "   'group': 'Amino Acids'},\n",
       "  {'value': 0.439,\n",
       "   'units': 'g',\n",
       "   'description': 'Glycine',\n",
       "   'group': 'Amino Acids'},\n",
       "  {'value': 2.838,\n",
       "   'units': 'g',\n",
       "   'description': 'Proline',\n",
       "   'group': 'Amino Acids'},\n",
       "  {'value': 1.472,\n",
       "   'units': 'g',\n",
       "   'description': 'Serine',\n",
       "   'group': 'Amino Acids'},\n",
       "  {'value': 93.0,\n",
       "   'units': 'mg',\n",
       "   'description': 'Cholesterol',\n",
       "   'group': 'Other'},\n",
       "  {'value': 18.584,\n",
       "   'units': 'g',\n",
       "   'description': 'Fatty acids, total saturated',\n",
       "   'group': 'Other'},\n",
       "  {'value': 8.275,\n",
       "   'units': 'g',\n",
       "   'description': 'Fatty acids, total monounsaturated',\n",
       "   'group': 'Other'},\n",
       "  {'value': 0.83,\n",
       "   'units': 'g',\n",
       "   'description': 'Fatty acids, total polyunsaturated',\n",
       "   'group': 'Other'},\n",
       "  {'value': 25.18,\n",
       "   'units': 'g',\n",
       "   'description': 'Protein',\n",
       "   'group': 'Composition'},\n",
       "  {'value': 29.2,\n",
       "   'units': 'g',\n",
       "   'description': 'Total lipid (fat)',\n",
       "   'group': 'Composition'},\n",
       "  {'value': 3.06,\n",
       "   'units': 'g',\n",
       "   'description': 'Carbohydrate, by difference',\n",
       "   'group': 'Composition'},\n",
       "  {'value': 3.28, 'units': 'g', 'description': 'Ash', 'group': 'Other'},\n",
       "  {'value': 376.0,\n",
       "   'units': 'kcal',\n",
       "   'description': 'Energy',\n",
       "   'group': 'Energy'},\n",
       "  {'value': 39.28,\n",
       "   'units': 'g',\n",
       "   'description': 'Water',\n",
       "   'group': 'Composition'},\n",
       "  {'value': 1573.0, 'units': 'kJ', 'description': 'Energy', 'group': 'Energy'},\n",
       "  {'value': 0.0,\n",
       "   'units': 'g',\n",
       "   'description': 'Fiber, total dietary',\n",
       "   'group': 'Composition'},\n",
       "  {'value': 673.0,\n",
       "   'units': 'mg',\n",
       "   'description': 'Calcium, Ca',\n",
       "   'group': 'Elements'},\n",
       "  {'value': 0.64,\n",
       "   'units': 'mg',\n",
       "   'description': 'Iron, Fe',\n",
       "   'group': 'Elements'},\n",
       "  {'value': 22.0,\n",
       "   'units': 'mg',\n",
       "   'description': 'Magnesium, Mg',\n",
       "   'group': 'Elements'},\n",
       "  {'value': 490.0,\n",
       "   'units': 'mg',\n",
       "   'description': 'Phosphorus, P',\n",
       "   'group': 'Elements'},\n",
       "  {'value': 93.0,\n",
       "   'units': 'mg',\n",
       "   'description': 'Potassium, K',\n",
       "   'group': 'Elements'},\n",
       "  {'value': 690.0,\n",
       "   'units': 'mg',\n",
       "   'description': 'Sodium, Na',\n",
       "   'group': 'Elements'},\n",
       "  {'value': 2.94,\n",
       "   'units': 'mg',\n",
       "   'description': 'Zinc, Zn',\n",
       "   'group': 'Elements'},\n",
       "  {'value': 0.024,\n",
       "   'units': 'mg',\n",
       "   'description': 'Copper, Cu',\n",
       "   'group': 'Elements'},\n",
       "  {'value': 0.021,\n",
       "   'units': 'mg',\n",
       "   'description': 'Manganese, Mn',\n",
       "   'group': 'Elements'},\n",
       "  {'value': 14.5,\n",
       "   'units': 'mcg',\n",
       "   'description': 'Selenium, Se',\n",
       "   'group': 'Elements'},\n",
       "  {'value': 1054.0,\n",
       "   'units': 'IU',\n",
       "   'description': 'Vitamin A, IU',\n",
       "   'group': 'Vitamins'},\n",
       "  {'value': 262.0,\n",
       "   'units': 'mcg',\n",
       "   'description': 'Retinol',\n",
       "   'group': 'Vitamins'},\n",
       "  {'value': 271.0,\n",
       "   'units': 'mcg_RAE',\n",
       "   'description': 'Vitamin A, RAE',\n",
       "   'group': 'Vitamins'},\n",
       "  {'value': 0.0,\n",
       "   'units': 'mg',\n",
       "   'description': 'Vitamin C, total ascorbic acid',\n",
       "   'group': 'Vitamins'},\n",
       "  {'value': 0.031,\n",
       "   'units': 'mg',\n",
       "   'description': 'Thiamin',\n",
       "   'group': 'Vitamins'},\n",
       "  {'value': 0.45,\n",
       "   'units': 'mg',\n",
       "   'description': 'Riboflavin',\n",
       "   'group': 'Vitamins'},\n",
       "  {'value': 0.18, 'units': 'mg', 'description': 'Niacin', 'group': 'Vitamins'},\n",
       "  {'value': 0.19,\n",
       "   'units': 'mg',\n",
       "   'description': 'Pantothenic acid',\n",
       "   'group': 'Vitamins'},\n",
       "  {'value': 0.074,\n",
       "   'units': 'mg',\n",
       "   'description': 'Vitamin B-6',\n",
       "   'group': 'Vitamins'},\n",
       "  {'value': 18.0,\n",
       "   'units': 'mcg',\n",
       "   'description': 'Folate, total',\n",
       "   'group': 'Vitamins'},\n",
       "  {'value': 0.27,\n",
       "   'units': 'mcg',\n",
       "   'description': 'Vitamin B-12',\n",
       "   'group': 'Vitamins'},\n",
       "  {'value': 0.0,\n",
       "   'units': 'mcg',\n",
       "   'description': 'Folic acid',\n",
       "   'group': 'Vitamins'},\n",
       "  {'value': 18.0,\n",
       "   'units': 'mcg',\n",
       "   'description': 'Folate, food',\n",
       "   'group': 'Vitamins'},\n",
       "  {'value': 18.0,\n",
       "   'units': 'mcg_DFE',\n",
       "   'description': 'Folate, DFE',\n",
       "   'group': 'Vitamins'},\n",
       "  {'value': 0.324,\n",
       "   'units': 'g',\n",
       "   'description': 'Tryptophan',\n",
       "   'group': 'Amino Acids'},\n",
       "  {'value': 0.896,\n",
       "   'units': 'g',\n",
       "   'description': 'Threonine',\n",
       "   'group': 'Amino Acids'},\n",
       "  {'value': 1.563,\n",
       "   'units': 'g',\n",
       "   'description': 'Isoleucine',\n",
       "   'group': 'Amino Acids'},\n",
       "  {'value': 2.412,\n",
       "   'units': 'g',\n",
       "   'description': 'Leucine',\n",
       "   'group': 'Amino Acids'},\n",
       "  {'value': 2.095,\n",
       "   'units': 'g',\n",
       "   'description': 'Lysine',\n",
       "   'group': 'Amino Acids'},\n",
       "  {'value': 0.659,\n",
       "   'units': 'g',\n",
       "   'description': 'Methionine',\n",
       "   'group': 'Amino Acids'},\n",
       "  {'value': 0.126,\n",
       "   'units': 'g',\n",
       "   'description': 'Cystine',\n",
       "   'group': 'Amino Acids'},\n",
       "  {'value': 1.326,\n",
       "   'units': 'g',\n",
       "   'description': 'Phenylalanine',\n",
       "   'group': 'Amino Acids'},\n",
       "  {'value': 1.216,\n",
       "   'units': 'g',\n",
       "   'description': 'Tyrosine',\n",
       "   'group': 'Amino Acids'},\n",
       "  {'value': 1.682,\n",
       "   'units': 'g',\n",
       "   'description': 'Valine',\n",
       "   'group': 'Amino Acids'},\n",
       "  {'value': 0.952,\n",
       "   'units': 'g',\n",
       "   'description': 'Arginine',\n",
       "   'group': 'Amino Acids'},\n",
       "  {'value': 0.884,\n",
       "   'units': 'g',\n",
       "   'description': 'Histidine',\n",
       "   'group': 'Amino Acids'},\n",
       "  {'value': 0.711,\n",
       "   'units': 'g',\n",
       "   'description': 'Alanine',\n",
       "   'group': 'Amino Acids'},\n",
       "  {'value': 1.618,\n",
       "   'units': 'g',\n",
       "   'description': 'Aspartic acid',\n",
       "   'group': 'Amino Acids'},\n",
       "  {'value': 6.16,\n",
       "   'units': 'g',\n",
       "   'description': 'Glutamic acid',\n",
       "   'group': 'Amino Acids'},\n",
       "  {'value': 0.439,\n",
       "   'units': 'g',\n",
       "   'description': 'Glycine',\n",
       "   'group': 'Amino Acids'},\n",
       "  {'value': 2.838,\n",
       "   'units': 'g',\n",
       "   'description': 'Proline',\n",
       "   'group': 'Amino Acids'},\n",
       "  {'value': 1.472,\n",
       "   'units': 'g',\n",
       "   'description': 'Serine',\n",
       "   'group': 'Amino Acids'},\n",
       "  {'value': 93.0,\n",
       "   'units': 'mg',\n",
       "   'description': 'Cholesterol',\n",
       "   'group': 'Other'},\n",
       "  {'value': 18.584,\n",
       "   'units': 'g',\n",
       "   'description': 'Fatty acids, total saturated',\n",
       "   'group': 'Other'},\n",
       "  {'value': 8.275,\n",
       "   'units': 'g',\n",
       "   'description': 'Fatty acids, total monounsaturated',\n",
       "   'group': 'Other'},\n",
       "  {'value': 0.83,\n",
       "   'units': 'g',\n",
       "   'description': 'Fatty acids, total polyunsaturated',\n",
       "   'group': 'Other'}]}"
      ]
     },
     "execution_count": 5,
     "metadata": {},
     "output_type": "execute_result"
    }
   ],
   "source": [
    "db[0]"
   ]
  },
  {
   "cell_type": "code",
   "execution_count": 6,
   "metadata": {},
   "outputs": [
    {
     "data": {
      "text/plain": [
       "dict_keys(['id', 'description', 'tags', 'manufacturer', 'group', 'portions', 'nutrients'])"
      ]
     },
     "execution_count": 6,
     "metadata": {},
     "output_type": "execute_result"
    }
   ],
   "source": [
    "db[0].keys()"
   ]
  },
  {
   "cell_type": "code",
   "execution_count": 7,
   "metadata": {},
   "outputs": [
    {
     "data": {
      "text/plain": [
       "{'value': 25.18,\n",
       " 'units': 'g',\n",
       " 'description': 'Protein',\n",
       " 'group': 'Composition'}"
      ]
     },
     "execution_count": 7,
     "metadata": {},
     "output_type": "execute_result"
    }
   ],
   "source": [
    "db[0][\"nutrients\"][0]"
   ]
  },
  {
   "cell_type": "code",
   "execution_count": 8,
   "metadata": {},
   "outputs": [],
   "source": [
    "nutrients = pd.DataFrame(db[0][\"nutrients\"])"
   ]
  },
  {
   "cell_type": "code",
   "execution_count": 9,
   "metadata": {},
   "outputs": [
    {
     "data": {
      "text/html": [
       "<div>\n",
       "<style scoped>\n",
       "    .dataframe tbody tr th:only-of-type {\n",
       "        vertical-align: middle;\n",
       "    }\n",
       "\n",
       "    .dataframe tbody tr th {\n",
       "        vertical-align: top;\n",
       "    }\n",
       "\n",
       "    .dataframe thead th {\n",
       "        text-align: right;\n",
       "    }\n",
       "</style>\n",
       "<table border=\"1\" class=\"dataframe\">\n",
       "  <thead>\n",
       "    <tr style=\"text-align: right;\">\n",
       "      <th></th>\n",
       "      <th>value</th>\n",
       "      <th>units</th>\n",
       "      <th>description</th>\n",
       "      <th>group</th>\n",
       "    </tr>\n",
       "  </thead>\n",
       "  <tbody>\n",
       "    <tr>\n",
       "      <th>0</th>\n",
       "      <td>25.18</td>\n",
       "      <td>g</td>\n",
       "      <td>Protein</td>\n",
       "      <td>Composition</td>\n",
       "    </tr>\n",
       "    <tr>\n",
       "      <th>1</th>\n",
       "      <td>29.20</td>\n",
       "      <td>g</td>\n",
       "      <td>Total lipid (fat)</td>\n",
       "      <td>Composition</td>\n",
       "    </tr>\n",
       "    <tr>\n",
       "      <th>2</th>\n",
       "      <td>3.06</td>\n",
       "      <td>g</td>\n",
       "      <td>Carbohydrate, by difference</td>\n",
       "      <td>Composition</td>\n",
       "    </tr>\n",
       "    <tr>\n",
       "      <th>3</th>\n",
       "      <td>3.28</td>\n",
       "      <td>g</td>\n",
       "      <td>Ash</td>\n",
       "      <td>Other</td>\n",
       "    </tr>\n",
       "    <tr>\n",
       "      <th>4</th>\n",
       "      <td>376.00</td>\n",
       "      <td>kcal</td>\n",
       "      <td>Energy</td>\n",
       "      <td>Energy</td>\n",
       "    </tr>\n",
       "    <tr>\n",
       "      <th>5</th>\n",
       "      <td>39.28</td>\n",
       "      <td>g</td>\n",
       "      <td>Water</td>\n",
       "      <td>Composition</td>\n",
       "    </tr>\n",
       "    <tr>\n",
       "      <th>6</th>\n",
       "      <td>1573.00</td>\n",
       "      <td>kJ</td>\n",
       "      <td>Energy</td>\n",
       "      <td>Energy</td>\n",
       "    </tr>\n",
       "    <tr>\n",
       "      <th>7</th>\n",
       "      <td>0.00</td>\n",
       "      <td>g</td>\n",
       "      <td>Fiber, total dietary</td>\n",
       "      <td>Composition</td>\n",
       "    </tr>\n",
       "  </tbody>\n",
       "</table>\n",
       "</div>"
      ],
      "text/plain": [
       "     value units                  description        group\n",
       "0    25.18     g                      Protein  Composition\n",
       "1    29.20     g            Total lipid (fat)  Composition\n",
       "2     3.06     g  Carbohydrate, by difference  Composition\n",
       "3     3.28     g                          Ash        Other\n",
       "4   376.00  kcal                       Energy       Energy\n",
       "5    39.28     g                        Water  Composition\n",
       "6  1573.00    kJ                       Energy       Energy\n",
       "7     0.00     g         Fiber, total dietary  Composition"
      ]
     },
     "execution_count": 9,
     "metadata": {},
     "output_type": "execute_result"
    }
   ],
   "source": [
    "nutrients.head(8)"
   ]
  },
  {
   "cell_type": "code",
   "execution_count": 10,
   "metadata": {},
   "outputs": [],
   "source": [
    "info_keys = [\"description\", \"group\", \"id\", \"manufacturer\"]"
   ]
  },
  {
   "cell_type": "code",
   "execution_count": 11,
   "metadata": {},
   "outputs": [],
   "source": [
    "info = pd.DataFrame(db, columns=info_keys)"
   ]
  },
  {
   "cell_type": "code",
   "execution_count": 12,
   "metadata": {},
   "outputs": [
    {
     "data": {
      "text/html": [
       "<div>\n",
       "<style scoped>\n",
       "    .dataframe tbody tr th:only-of-type {\n",
       "        vertical-align: middle;\n",
       "    }\n",
       "\n",
       "    .dataframe tbody tr th {\n",
       "        vertical-align: top;\n",
       "    }\n",
       "\n",
       "    .dataframe thead th {\n",
       "        text-align: right;\n",
       "    }\n",
       "</style>\n",
       "<table border=\"1\" class=\"dataframe\">\n",
       "  <thead>\n",
       "    <tr style=\"text-align: right;\">\n",
       "      <th></th>\n",
       "      <th>description</th>\n",
       "      <th>group</th>\n",
       "      <th>id</th>\n",
       "      <th>manufacturer</th>\n",
       "    </tr>\n",
       "  </thead>\n",
       "  <tbody>\n",
       "    <tr>\n",
       "      <th>0</th>\n",
       "      <td>Cheese, caraway</td>\n",
       "      <td>Dairy and Egg Products</td>\n",
       "      <td>1008</td>\n",
       "      <td></td>\n",
       "    </tr>\n",
       "    <tr>\n",
       "      <th>1</th>\n",
       "      <td>Cheese, cheddar</td>\n",
       "      <td>Dairy and Egg Products</td>\n",
       "      <td>1009</td>\n",
       "      <td></td>\n",
       "    </tr>\n",
       "    <tr>\n",
       "      <th>2</th>\n",
       "      <td>Cheese, edam</td>\n",
       "      <td>Dairy and Egg Products</td>\n",
       "      <td>1018</td>\n",
       "      <td></td>\n",
       "    </tr>\n",
       "    <tr>\n",
       "      <th>3</th>\n",
       "      <td>Cheese, feta</td>\n",
       "      <td>Dairy and Egg Products</td>\n",
       "      <td>1019</td>\n",
       "      <td></td>\n",
       "    </tr>\n",
       "    <tr>\n",
       "      <th>4</th>\n",
       "      <td>Cheese, mozzarella, part skim milk</td>\n",
       "      <td>Dairy and Egg Products</td>\n",
       "      <td>1028</td>\n",
       "      <td></td>\n",
       "    </tr>\n",
       "    <tr>\n",
       "      <th>5</th>\n",
       "      <td>Cheese, mozzarella, part skim milk, low moisture</td>\n",
       "      <td>Dairy and Egg Products</td>\n",
       "      <td>1029</td>\n",
       "      <td></td>\n",
       "    </tr>\n",
       "    <tr>\n",
       "      <th>6</th>\n",
       "      <td>Cheese, romano</td>\n",
       "      <td>Dairy and Egg Products</td>\n",
       "      <td>1038</td>\n",
       "      <td></td>\n",
       "    </tr>\n",
       "    <tr>\n",
       "      <th>7</th>\n",
       "      <td>Cheese, roquefort</td>\n",
       "      <td>Dairy and Egg Products</td>\n",
       "      <td>1039</td>\n",
       "      <td></td>\n",
       "    </tr>\n",
       "  </tbody>\n",
       "</table>\n",
       "</div>"
      ],
      "text/plain": [
       "                                        description                   group  \\\n",
       "0                                   Cheese, caraway  Dairy and Egg Products   \n",
       "1                                   Cheese, cheddar  Dairy and Egg Products   \n",
       "2                                      Cheese, edam  Dairy and Egg Products   \n",
       "3                                      Cheese, feta  Dairy and Egg Products   \n",
       "4                Cheese, mozzarella, part skim milk  Dairy and Egg Products   \n",
       "5  Cheese, mozzarella, part skim milk, low moisture  Dairy and Egg Products   \n",
       "6                                    Cheese, romano  Dairy and Egg Products   \n",
       "7                                 Cheese, roquefort  Dairy and Egg Products   \n",
       "\n",
       "     id manufacturer  \n",
       "0  1008               \n",
       "1  1009               \n",
       "2  1018               \n",
       "3  1019               \n",
       "4  1028               \n",
       "5  1029               \n",
       "6  1038               \n",
       "7  1039               "
      ]
     },
     "execution_count": 12,
     "metadata": {},
     "output_type": "execute_result"
    }
   ],
   "source": [
    "info.head(8)"
   ]
  },
  {
   "cell_type": "code",
   "execution_count": 13,
   "metadata": {},
   "outputs": [
    {
     "name": "stdout",
     "output_type": "stream",
     "text": [
      "<class 'pandas.core.frame.DataFrame'>\n",
      "RangeIndex: 6636 entries, 0 to 6635\n",
      "Data columns (total 4 columns):\n",
      " #   Column        Non-Null Count  Dtype \n",
      "---  ------        --------------  ----- \n",
      " 0   description   6636 non-null   object\n",
      " 1   group         6636 non-null   object\n",
      " 2   id            6636 non-null   int64 \n",
      " 3   manufacturer  5195 non-null   object\n",
      "dtypes: int64(1), object(3)\n",
      "memory usage: 207.5+ KB\n"
     ]
    }
   ],
   "source": [
    "info.info()"
   ]
  },
  {
   "cell_type": "code",
   "execution_count": 14,
   "metadata": {},
   "outputs": [
    {
     "data": {
      "text/plain": [
       "group\n",
       "Vegetables and Vegetable Products    812\n",
       "Beef Products                        618\n",
       "Baked Products                       496\n",
       "Breakfast Cereals                    403\n",
       "Legumes and Legume Products          365\n",
       "Fast Foods                           365\n",
       "Lamb, Veal, and Game Products        345\n",
       "Sweets                               341\n",
       "Fruits and Fruit Juices              328\n",
       "Pork Products                        328\n",
       "Beverages                            278\n",
       "Soups, Sauces, and Gravies           275\n",
       "Finfish and Shellfish Products       255\n",
       "Baby Foods                           209\n",
       "Cereal Grains and Pasta              183\n",
       "Name: count, dtype: int64"
      ]
     },
     "execution_count": 14,
     "metadata": {},
     "output_type": "execute_result"
    }
   ],
   "source": [
    "pd.value_counts(info[\"group\"])[:15]"
   ]
  },
  {
   "cell_type": "code",
   "execution_count": 15,
   "metadata": {},
   "outputs": [],
   "source": [
    "nutrients = []\n",
    "\n",
    "for rec in db:\n",
    "    fnuts = pd.DataFrame(rec[\"nutrients\"])\n",
    "    fnuts[\"id\"] = rec[\"id\"]\n",
    "    nutrients.append(fnuts)"
   ]
  },
  {
   "cell_type": "code",
   "execution_count": 16,
   "metadata": {},
   "outputs": [],
   "source": [
    "nutrients = pd.concat(nutrients, ignore_index=True)"
   ]
  },
  {
   "cell_type": "code",
   "execution_count": 17,
   "metadata": {},
   "outputs": [
    {
     "data": {
      "text/html": [
       "<div>\n",
       "<style scoped>\n",
       "    .dataframe tbody tr th:only-of-type {\n",
       "        vertical-align: middle;\n",
       "    }\n",
       "\n",
       "    .dataframe tbody tr th {\n",
       "        vertical-align: top;\n",
       "    }\n",
       "\n",
       "    .dataframe thead th {\n",
       "        text-align: right;\n",
       "    }\n",
       "</style>\n",
       "<table border=\"1\" class=\"dataframe\">\n",
       "  <thead>\n",
       "    <tr style=\"text-align: right;\">\n",
       "      <th></th>\n",
       "      <th>value</th>\n",
       "      <th>units</th>\n",
       "      <th>description</th>\n",
       "      <th>group</th>\n",
       "      <th>id</th>\n",
       "    </tr>\n",
       "  </thead>\n",
       "  <tbody>\n",
       "    <tr>\n",
       "      <th>0</th>\n",
       "      <td>25.180</td>\n",
       "      <td>g</td>\n",
       "      <td>Protein</td>\n",
       "      <td>Composition</td>\n",
       "      <td>1008</td>\n",
       "    </tr>\n",
       "    <tr>\n",
       "      <th>1</th>\n",
       "      <td>29.200</td>\n",
       "      <td>g</td>\n",
       "      <td>Total lipid (fat)</td>\n",
       "      <td>Composition</td>\n",
       "      <td>1008</td>\n",
       "    </tr>\n",
       "    <tr>\n",
       "      <th>2</th>\n",
       "      <td>3.060</td>\n",
       "      <td>g</td>\n",
       "      <td>Carbohydrate, by difference</td>\n",
       "      <td>Composition</td>\n",
       "      <td>1008</td>\n",
       "    </tr>\n",
       "    <tr>\n",
       "      <th>3</th>\n",
       "      <td>3.280</td>\n",
       "      <td>g</td>\n",
       "      <td>Ash</td>\n",
       "      <td>Other</td>\n",
       "      <td>1008</td>\n",
       "    </tr>\n",
       "    <tr>\n",
       "      <th>4</th>\n",
       "      <td>376.000</td>\n",
       "      <td>kcal</td>\n",
       "      <td>Energy</td>\n",
       "      <td>Energy</td>\n",
       "      <td>1008</td>\n",
       "    </tr>\n",
       "    <tr>\n",
       "      <th>...</th>\n",
       "      <td>...</td>\n",
       "      <td>...</td>\n",
       "      <td>...</td>\n",
       "      <td>...</td>\n",
       "      <td>...</td>\n",
       "    </tr>\n",
       "    <tr>\n",
       "      <th>389350</th>\n",
       "      <td>0.000</td>\n",
       "      <td>mcg</td>\n",
       "      <td>Vitamin B-12, added</td>\n",
       "      <td>Vitamins</td>\n",
       "      <td>43546</td>\n",
       "    </tr>\n",
       "    <tr>\n",
       "      <th>389351</th>\n",
       "      <td>0.000</td>\n",
       "      <td>mg</td>\n",
       "      <td>Cholesterol</td>\n",
       "      <td>Other</td>\n",
       "      <td>43546</td>\n",
       "    </tr>\n",
       "    <tr>\n",
       "      <th>389352</th>\n",
       "      <td>0.072</td>\n",
       "      <td>g</td>\n",
       "      <td>Fatty acids, total saturated</td>\n",
       "      <td>Other</td>\n",
       "      <td>43546</td>\n",
       "    </tr>\n",
       "    <tr>\n",
       "      <th>389353</th>\n",
       "      <td>0.028</td>\n",
       "      <td>g</td>\n",
       "      <td>Fatty acids, total monounsaturated</td>\n",
       "      <td>Other</td>\n",
       "      <td>43546</td>\n",
       "    </tr>\n",
       "    <tr>\n",
       "      <th>389354</th>\n",
       "      <td>0.041</td>\n",
       "      <td>g</td>\n",
       "      <td>Fatty acids, total polyunsaturated</td>\n",
       "      <td>Other</td>\n",
       "      <td>43546</td>\n",
       "    </tr>\n",
       "  </tbody>\n",
       "</table>\n",
       "<p>389355 rows × 5 columns</p>\n",
       "</div>"
      ],
      "text/plain": [
       "          value units                         description        group     id\n",
       "0        25.180     g                             Protein  Composition   1008\n",
       "1        29.200     g                   Total lipid (fat)  Composition   1008\n",
       "2         3.060     g         Carbohydrate, by difference  Composition   1008\n",
       "3         3.280     g                                 Ash        Other   1008\n",
       "4       376.000  kcal                              Energy       Energy   1008\n",
       "...         ...   ...                                 ...          ...    ...\n",
       "389350    0.000   mcg                 Vitamin B-12, added     Vitamins  43546\n",
       "389351    0.000    mg                         Cholesterol        Other  43546\n",
       "389352    0.072     g        Fatty acids, total saturated        Other  43546\n",
       "389353    0.028     g  Fatty acids, total monounsaturated        Other  43546\n",
       "389354    0.041     g  Fatty acids, total polyunsaturated        Other  43546\n",
       "\n",
       "[389355 rows x 5 columns]"
      ]
     },
     "execution_count": 17,
     "metadata": {},
     "output_type": "execute_result"
    }
   ],
   "source": [
    "nutrients"
   ]
  },
  {
   "cell_type": "code",
   "execution_count": 18,
   "metadata": {},
   "outputs": [
    {
     "data": {
      "text/plain": [
       "14179"
      ]
     },
     "execution_count": 18,
     "metadata": {},
     "output_type": "execute_result"
    }
   ],
   "source": [
    "nutrients.duplicated().sum()"
   ]
  },
  {
   "cell_type": "code",
   "execution_count": 19,
   "metadata": {},
   "outputs": [],
   "source": [
    "nutrients = nutrients.drop_duplicates()"
   ]
  },
  {
   "cell_type": "code",
   "execution_count": 20,
   "metadata": {},
   "outputs": [
    {
     "data": {
      "text/plain": [
       "0"
      ]
     },
     "execution_count": 20,
     "metadata": {},
     "output_type": "execute_result"
    }
   ],
   "source": [
    "nutrients.duplicated().sum()"
   ]
  },
  {
   "cell_type": "code",
   "execution_count": 21,
   "metadata": {},
   "outputs": [
    {
     "data": {
      "text/html": [
       "<div>\n",
       "<style scoped>\n",
       "    .dataframe tbody tr th:only-of-type {\n",
       "        vertical-align: middle;\n",
       "    }\n",
       "\n",
       "    .dataframe tbody tr th {\n",
       "        vertical-align: top;\n",
       "    }\n",
       "\n",
       "    .dataframe thead th {\n",
       "        text-align: right;\n",
       "    }\n",
       "</style>\n",
       "<table border=\"1\" class=\"dataframe\">\n",
       "  <thead>\n",
       "    <tr style=\"text-align: right;\">\n",
       "      <th></th>\n",
       "      <th>value</th>\n",
       "      <th>units</th>\n",
       "      <th>description</th>\n",
       "      <th>group</th>\n",
       "      <th>id</th>\n",
       "    </tr>\n",
       "  </thead>\n",
       "  <tbody>\n",
       "    <tr>\n",
       "      <th>0</th>\n",
       "      <td>25.18</td>\n",
       "      <td>g</td>\n",
       "      <td>Protein</td>\n",
       "      <td>Composition</td>\n",
       "      <td>1008</td>\n",
       "    </tr>\n",
       "    <tr>\n",
       "      <th>1</th>\n",
       "      <td>29.20</td>\n",
       "      <td>g</td>\n",
       "      <td>Total lipid (fat)</td>\n",
       "      <td>Composition</td>\n",
       "      <td>1008</td>\n",
       "    </tr>\n",
       "    <tr>\n",
       "      <th>2</th>\n",
       "      <td>3.06</td>\n",
       "      <td>g</td>\n",
       "      <td>Carbohydrate, by difference</td>\n",
       "      <td>Composition</td>\n",
       "      <td>1008</td>\n",
       "    </tr>\n",
       "    <tr>\n",
       "      <th>3</th>\n",
       "      <td>3.28</td>\n",
       "      <td>g</td>\n",
       "      <td>Ash</td>\n",
       "      <td>Other</td>\n",
       "      <td>1008</td>\n",
       "    </tr>\n",
       "    <tr>\n",
       "      <th>4</th>\n",
       "      <td>376.00</td>\n",
       "      <td>kcal</td>\n",
       "      <td>Energy</td>\n",
       "      <td>Energy</td>\n",
       "      <td>1008</td>\n",
       "    </tr>\n",
       "  </tbody>\n",
       "</table>\n",
       "</div>"
      ],
      "text/plain": [
       "    value units                  description        group    id\n",
       "0   25.18     g                      Protein  Composition  1008\n",
       "1   29.20     g            Total lipid (fat)  Composition  1008\n",
       "2    3.06     g  Carbohydrate, by difference  Composition  1008\n",
       "3    3.28     g                          Ash        Other  1008\n",
       "4  376.00  kcal                       Energy       Energy  1008"
      ]
     },
     "execution_count": 21,
     "metadata": {},
     "output_type": "execute_result"
    }
   ],
   "source": [
    "nutrients.head()"
   ]
  },
  {
   "cell_type": "code",
   "execution_count": 22,
   "metadata": {},
   "outputs": [
    {
     "data": {
      "text/html": [
       "<div>\n",
       "<style scoped>\n",
       "    .dataframe tbody tr th:only-of-type {\n",
       "        vertical-align: middle;\n",
       "    }\n",
       "\n",
       "    .dataframe tbody tr th {\n",
       "        vertical-align: top;\n",
       "    }\n",
       "\n",
       "    .dataframe thead th {\n",
       "        text-align: right;\n",
       "    }\n",
       "</style>\n",
       "<table border=\"1\" class=\"dataframe\">\n",
       "  <thead>\n",
       "    <tr style=\"text-align: right;\">\n",
       "      <th></th>\n",
       "      <th>description</th>\n",
       "      <th>group</th>\n",
       "      <th>id</th>\n",
       "      <th>manufacturer</th>\n",
       "    </tr>\n",
       "  </thead>\n",
       "  <tbody>\n",
       "    <tr>\n",
       "      <th>0</th>\n",
       "      <td>Cheese, caraway</td>\n",
       "      <td>Dairy and Egg Products</td>\n",
       "      <td>1008</td>\n",
       "      <td></td>\n",
       "    </tr>\n",
       "    <tr>\n",
       "      <th>1</th>\n",
       "      <td>Cheese, cheddar</td>\n",
       "      <td>Dairy and Egg Products</td>\n",
       "      <td>1009</td>\n",
       "      <td></td>\n",
       "    </tr>\n",
       "    <tr>\n",
       "      <th>2</th>\n",
       "      <td>Cheese, edam</td>\n",
       "      <td>Dairy and Egg Products</td>\n",
       "      <td>1018</td>\n",
       "      <td></td>\n",
       "    </tr>\n",
       "    <tr>\n",
       "      <th>3</th>\n",
       "      <td>Cheese, feta</td>\n",
       "      <td>Dairy and Egg Products</td>\n",
       "      <td>1019</td>\n",
       "      <td></td>\n",
       "    </tr>\n",
       "    <tr>\n",
       "      <th>4</th>\n",
       "      <td>Cheese, mozzarella, part skim milk</td>\n",
       "      <td>Dairy and Egg Products</td>\n",
       "      <td>1028</td>\n",
       "      <td></td>\n",
       "    </tr>\n",
       "  </tbody>\n",
       "</table>\n",
       "</div>"
      ],
      "text/plain": [
       "                          description                   group    id  \\\n",
       "0                     Cheese, caraway  Dairy and Egg Products  1008   \n",
       "1                     Cheese, cheddar  Dairy and Egg Products  1009   \n",
       "2                        Cheese, edam  Dairy and Egg Products  1018   \n",
       "3                        Cheese, feta  Dairy and Egg Products  1019   \n",
       "4  Cheese, mozzarella, part skim milk  Dairy and Egg Products  1028   \n",
       "\n",
       "  manufacturer  \n",
       "0               \n",
       "1               \n",
       "2               \n",
       "3               \n",
       "4               "
      ]
     },
     "execution_count": 22,
     "metadata": {},
     "output_type": "execute_result"
    }
   ],
   "source": [
    "info.head()"
   ]
  },
  {
   "cell_type": "code",
   "execution_count": 23,
   "metadata": {},
   "outputs": [],
   "source": [
    "col_mapping = {\n",
    "    \"description\": \"food\",\n",
    "    \"group\": \"fgroup\"\n",
    "}"
   ]
  },
  {
   "cell_type": "code",
   "execution_count": 24,
   "metadata": {},
   "outputs": [],
   "source": [
    "info = info.rename(columns=col_mapping, copy=False)"
   ]
  },
  {
   "cell_type": "code",
   "execution_count": 25,
   "metadata": {},
   "outputs": [
    {
     "data": {
      "text/html": [
       "<div>\n",
       "<style scoped>\n",
       "    .dataframe tbody tr th:only-of-type {\n",
       "        vertical-align: middle;\n",
       "    }\n",
       "\n",
       "    .dataframe tbody tr th {\n",
       "        vertical-align: top;\n",
       "    }\n",
       "\n",
       "    .dataframe thead th {\n",
       "        text-align: right;\n",
       "    }\n",
       "</style>\n",
       "<table border=\"1\" class=\"dataframe\">\n",
       "  <thead>\n",
       "    <tr style=\"text-align: right;\">\n",
       "      <th></th>\n",
       "      <th>food</th>\n",
       "      <th>fgroup</th>\n",
       "      <th>id</th>\n",
       "      <th>manufacturer</th>\n",
       "    </tr>\n",
       "  </thead>\n",
       "  <tbody>\n",
       "    <tr>\n",
       "      <th>0</th>\n",
       "      <td>Cheese, caraway</td>\n",
       "      <td>Dairy and Egg Products</td>\n",
       "      <td>1008</td>\n",
       "      <td></td>\n",
       "    </tr>\n",
       "    <tr>\n",
       "      <th>1</th>\n",
       "      <td>Cheese, cheddar</td>\n",
       "      <td>Dairy and Egg Products</td>\n",
       "      <td>1009</td>\n",
       "      <td></td>\n",
       "    </tr>\n",
       "    <tr>\n",
       "      <th>2</th>\n",
       "      <td>Cheese, edam</td>\n",
       "      <td>Dairy and Egg Products</td>\n",
       "      <td>1018</td>\n",
       "      <td></td>\n",
       "    </tr>\n",
       "    <tr>\n",
       "      <th>3</th>\n",
       "      <td>Cheese, feta</td>\n",
       "      <td>Dairy and Egg Products</td>\n",
       "      <td>1019</td>\n",
       "      <td></td>\n",
       "    </tr>\n",
       "    <tr>\n",
       "      <th>4</th>\n",
       "      <td>Cheese, mozzarella, part skim milk</td>\n",
       "      <td>Dairy and Egg Products</td>\n",
       "      <td>1028</td>\n",
       "      <td></td>\n",
       "    </tr>\n",
       "  </tbody>\n",
       "</table>\n",
       "</div>"
      ],
      "text/plain": [
       "                                 food                  fgroup    id  \\\n",
       "0                     Cheese, caraway  Dairy and Egg Products  1008   \n",
       "1                     Cheese, cheddar  Dairy and Egg Products  1009   \n",
       "2                        Cheese, edam  Dairy and Egg Products  1018   \n",
       "3                        Cheese, feta  Dairy and Egg Products  1019   \n",
       "4  Cheese, mozzarella, part skim milk  Dairy and Egg Products  1028   \n",
       "\n",
       "  manufacturer  \n",
       "0               \n",
       "1               \n",
       "2               \n",
       "3               \n",
       "4               "
      ]
     },
     "execution_count": 25,
     "metadata": {},
     "output_type": "execute_result"
    }
   ],
   "source": [
    "info.head()"
   ]
  },
  {
   "cell_type": "code",
   "execution_count": 26,
   "metadata": {},
   "outputs": [
    {
     "name": "stdout",
     "output_type": "stream",
     "text": [
      "<class 'pandas.core.frame.DataFrame'>\n",
      "RangeIndex: 6636 entries, 0 to 6635\n",
      "Data columns (total 4 columns):\n",
      " #   Column        Non-Null Count  Dtype \n",
      "---  ------        --------------  ----- \n",
      " 0   food          6636 non-null   object\n",
      " 1   fgroup        6636 non-null   object\n",
      " 2   id            6636 non-null   int64 \n",
      " 3   manufacturer  5195 non-null   object\n",
      "dtypes: int64(1), object(3)\n",
      "memory usage: 207.5+ KB\n"
     ]
    }
   ],
   "source": [
    "info.info()"
   ]
  },
  {
   "cell_type": "code",
   "execution_count": 27,
   "metadata": {},
   "outputs": [
    {
     "data": {
      "text/plain": [
       "0"
      ]
     },
     "execution_count": 27,
     "metadata": {},
     "output_type": "execute_result"
    }
   ],
   "source": [
    "info.duplicated().sum()"
   ]
  },
  {
   "cell_type": "code",
   "execution_count": 28,
   "metadata": {},
   "outputs": [],
   "source": [
    "col_mapping = {\n",
    "    \"description\": \"nutrient\",\n",
    "    \"group\": \"nutgroup\"\n",
    "}"
   ]
  },
  {
   "cell_type": "code",
   "execution_count": 29,
   "metadata": {},
   "outputs": [],
   "source": [
    "nutrients = nutrients.rename(columns=col_mapping, copy=False)"
   ]
  },
  {
   "cell_type": "code",
   "execution_count": 30,
   "metadata": {},
   "outputs": [
    {
     "data": {
      "text/html": [
       "<div>\n",
       "<style scoped>\n",
       "    .dataframe tbody tr th:only-of-type {\n",
       "        vertical-align: middle;\n",
       "    }\n",
       "\n",
       "    .dataframe tbody tr th {\n",
       "        vertical-align: top;\n",
       "    }\n",
       "\n",
       "    .dataframe thead th {\n",
       "        text-align: right;\n",
       "    }\n",
       "</style>\n",
       "<table border=\"1\" class=\"dataframe\">\n",
       "  <thead>\n",
       "    <tr style=\"text-align: right;\">\n",
       "      <th></th>\n",
       "      <th>value</th>\n",
       "      <th>units</th>\n",
       "      <th>nutrient</th>\n",
       "      <th>nutgroup</th>\n",
       "      <th>id</th>\n",
       "    </tr>\n",
       "  </thead>\n",
       "  <tbody>\n",
       "    <tr>\n",
       "      <th>0</th>\n",
       "      <td>25.18</td>\n",
       "      <td>g</td>\n",
       "      <td>Protein</td>\n",
       "      <td>Composition</td>\n",
       "      <td>1008</td>\n",
       "    </tr>\n",
       "    <tr>\n",
       "      <th>1</th>\n",
       "      <td>29.20</td>\n",
       "      <td>g</td>\n",
       "      <td>Total lipid (fat)</td>\n",
       "      <td>Composition</td>\n",
       "      <td>1008</td>\n",
       "    </tr>\n",
       "    <tr>\n",
       "      <th>2</th>\n",
       "      <td>3.06</td>\n",
       "      <td>g</td>\n",
       "      <td>Carbohydrate, by difference</td>\n",
       "      <td>Composition</td>\n",
       "      <td>1008</td>\n",
       "    </tr>\n",
       "    <tr>\n",
       "      <th>3</th>\n",
       "      <td>3.28</td>\n",
       "      <td>g</td>\n",
       "      <td>Ash</td>\n",
       "      <td>Other</td>\n",
       "      <td>1008</td>\n",
       "    </tr>\n",
       "    <tr>\n",
       "      <th>4</th>\n",
       "      <td>376.00</td>\n",
       "      <td>kcal</td>\n",
       "      <td>Energy</td>\n",
       "      <td>Energy</td>\n",
       "      <td>1008</td>\n",
       "    </tr>\n",
       "  </tbody>\n",
       "</table>\n",
       "</div>"
      ],
      "text/plain": [
       "    value units                     nutrient     nutgroup    id\n",
       "0   25.18     g                      Protein  Composition  1008\n",
       "1   29.20     g            Total lipid (fat)  Composition  1008\n",
       "2    3.06     g  Carbohydrate, by difference  Composition  1008\n",
       "3    3.28     g                          Ash        Other  1008\n",
       "4  376.00  kcal                       Energy       Energy  1008"
      ]
     },
     "execution_count": 30,
     "metadata": {},
     "output_type": "execute_result"
    }
   ],
   "source": [
    "nutrients.head()"
   ]
  },
  {
   "cell_type": "code",
   "execution_count": 31,
   "metadata": {},
   "outputs": [],
   "source": [
    "ndata = pd.merge(nutrients, info, on=\"id\")"
   ]
  },
  {
   "cell_type": "code",
   "execution_count": 32,
   "metadata": {},
   "outputs": [
    {
     "name": "stdout",
     "output_type": "stream",
     "text": [
      "<class 'pandas.core.frame.DataFrame'>\n",
      "RangeIndex: 375176 entries, 0 to 375175\n",
      "Data columns (total 8 columns):\n",
      " #   Column        Non-Null Count   Dtype  \n",
      "---  ------        --------------   -----  \n",
      " 0   value         375176 non-null  float64\n",
      " 1   units         375176 non-null  object \n",
      " 2   nutrient      375176 non-null  object \n",
      " 3   nutgroup      375176 non-null  object \n",
      " 4   id            375176 non-null  int64  \n",
      " 5   food          375176 non-null  object \n",
      " 6   fgroup        375176 non-null  object \n",
      " 7   manufacturer  293054 non-null  object \n",
      "dtypes: float64(1), int64(1), object(6)\n",
      "memory usage: 22.9+ MB\n"
     ]
    }
   ],
   "source": [
    "ndata.info()"
   ]
  },
  {
   "cell_type": "code",
   "execution_count": 33,
   "metadata": {},
   "outputs": [
    {
     "data": {
      "text/html": [
       "<div>\n",
       "<style scoped>\n",
       "    .dataframe tbody tr th:only-of-type {\n",
       "        vertical-align: middle;\n",
       "    }\n",
       "\n",
       "    .dataframe tbody tr th {\n",
       "        vertical-align: top;\n",
       "    }\n",
       "\n",
       "    .dataframe thead th {\n",
       "        text-align: right;\n",
       "    }\n",
       "</style>\n",
       "<table border=\"1\" class=\"dataframe\">\n",
       "  <thead>\n",
       "    <tr style=\"text-align: right;\">\n",
       "      <th></th>\n",
       "      <th>value</th>\n",
       "      <th>units</th>\n",
       "      <th>nutrient</th>\n",
       "      <th>nutgroup</th>\n",
       "      <th>id</th>\n",
       "      <th>food</th>\n",
       "      <th>fgroup</th>\n",
       "      <th>manufacturer</th>\n",
       "    </tr>\n",
       "  </thead>\n",
       "  <tbody>\n",
       "    <tr>\n",
       "      <th>0</th>\n",
       "      <td>25.18</td>\n",
       "      <td>g</td>\n",
       "      <td>Protein</td>\n",
       "      <td>Composition</td>\n",
       "      <td>1008</td>\n",
       "      <td>Cheese, caraway</td>\n",
       "      <td>Dairy and Egg Products</td>\n",
       "      <td></td>\n",
       "    </tr>\n",
       "    <tr>\n",
       "      <th>1</th>\n",
       "      <td>29.20</td>\n",
       "      <td>g</td>\n",
       "      <td>Total lipid (fat)</td>\n",
       "      <td>Composition</td>\n",
       "      <td>1008</td>\n",
       "      <td>Cheese, caraway</td>\n",
       "      <td>Dairy and Egg Products</td>\n",
       "      <td></td>\n",
       "    </tr>\n",
       "    <tr>\n",
       "      <th>2</th>\n",
       "      <td>3.06</td>\n",
       "      <td>g</td>\n",
       "      <td>Carbohydrate, by difference</td>\n",
       "      <td>Composition</td>\n",
       "      <td>1008</td>\n",
       "      <td>Cheese, caraway</td>\n",
       "      <td>Dairy and Egg Products</td>\n",
       "      <td></td>\n",
       "    </tr>\n",
       "    <tr>\n",
       "      <th>3</th>\n",
       "      <td>3.28</td>\n",
       "      <td>g</td>\n",
       "      <td>Ash</td>\n",
       "      <td>Other</td>\n",
       "      <td>1008</td>\n",
       "      <td>Cheese, caraway</td>\n",
       "      <td>Dairy and Egg Products</td>\n",
       "      <td></td>\n",
       "    </tr>\n",
       "    <tr>\n",
       "      <th>4</th>\n",
       "      <td>376.00</td>\n",
       "      <td>kcal</td>\n",
       "      <td>Energy</td>\n",
       "      <td>Energy</td>\n",
       "      <td>1008</td>\n",
       "      <td>Cheese, caraway</td>\n",
       "      <td>Dairy and Egg Products</td>\n",
       "      <td></td>\n",
       "    </tr>\n",
       "  </tbody>\n",
       "</table>\n",
       "</div>"
      ],
      "text/plain": [
       "    value units                     nutrient     nutgroup    id  \\\n",
       "0   25.18     g                      Protein  Composition  1008   \n",
       "1   29.20     g            Total lipid (fat)  Composition  1008   \n",
       "2    3.06     g  Carbohydrate, by difference  Composition  1008   \n",
       "3    3.28     g                          Ash        Other  1008   \n",
       "4  376.00  kcal                       Energy       Energy  1008   \n",
       "\n",
       "              food                  fgroup manufacturer  \n",
       "0  Cheese, caraway  Dairy and Egg Products               \n",
       "1  Cheese, caraway  Dairy and Egg Products               \n",
       "2  Cheese, caraway  Dairy and Egg Products               \n",
       "3  Cheese, caraway  Dairy and Egg Products               \n",
       "4  Cheese, caraway  Dairy and Egg Products               "
      ]
     },
     "execution_count": 33,
     "metadata": {},
     "output_type": "execute_result"
    }
   ],
   "source": [
    "ndata.head()"
   ]
  },
  {
   "cell_type": "code",
   "execution_count": 34,
   "metadata": {},
   "outputs": [
    {
     "data": {
      "text/plain": [
       "value                                             0.04\n",
       "units                                                g\n",
       "nutrient                                       Glycine\n",
       "nutgroup                                   Amino Acids\n",
       "id                                                6158\n",
       "food            Soup, tomato bisque, canned, condensed\n",
       "fgroup                      Soups, Sauces, and Gravies\n",
       "manufacturer                                          \n",
       "Name: 30000, dtype: object"
      ]
     },
     "execution_count": 34,
     "metadata": {},
     "output_type": "execute_result"
    }
   ],
   "source": [
    "ndata.iloc[30000]"
   ]
  },
  {
   "cell_type": "code",
   "execution_count": 35,
   "metadata": {},
   "outputs": [
    {
     "data": {
      "text/plain": [
       "value                            376.0\n",
       "units                             kcal\n",
       "nutrient                        Energy\n",
       "nutgroup                        Energy\n",
       "id                                1008\n",
       "food                   Cheese, caraway\n",
       "fgroup          Dairy and Egg Products\n",
       "manufacturer                          \n",
       "Name: 4, dtype: object"
      ]
     },
     "execution_count": 35,
     "metadata": {},
     "output_type": "execute_result"
    }
   ],
   "source": [
    "ndata.iloc[4]"
   ]
  },
  {
   "cell_type": "code",
   "execution_count": 36,
   "metadata": {},
   "outputs": [],
   "source": [
    "result = ndata.groupby([\"nutrient\", \"fgroup\"])[\"value\"].quantile(0.5)"
   ]
  },
  {
   "cell_type": "code",
   "execution_count": 37,
   "metadata": {},
   "outputs": [
    {
     "data": {
      "text/plain": [
       "<Axes: ylabel='fgroup'>"
      ]
     },
     "execution_count": 37,
     "metadata": {},
     "output_type": "execute_result"
    },
    {
     "data": {
      "image/png": "[encoded data removed]",
      "text/plain": [
       "<Figure size 640x480 with 1 Axes>"
      ]
     },
     "metadata": {},
     "output_type": "display_data"
    }
   ],
   "source": [
    "result[\"Zinc, Zn\"].sort_values().plot(kind=\"barh\")"
   ]
  },
  {
   "cell_type": "code",
   "execution_count": 38,
   "metadata": {},
   "outputs": [
    {
     "data": {
      "text/plain": [
       "array(['Protein', 'Total lipid (fat)', 'Carbohydrate, by difference',\n",
       "       'Ash', 'Energy', 'Water', 'Fiber, total dietary', 'Calcium, Ca',\n",
       "       'Iron, Fe', 'Magnesium, Mg', 'Phosphorus, P', 'Potassium, K',\n",
       "       'Sodium, Na', 'Zinc, Zn', 'Copper, Cu', 'Manganese, Mn',\n",
       "       'Selenium, Se', 'Vitamin A, IU', 'Retinol', 'Vitamin A, RAE',\n",
       "       'Vitamin C, total ascorbic acid', 'Thiamin', 'Riboflavin',\n",
       "       'Niacin', 'Pantothenic acid', 'Vitamin B-6', 'Folate, total',\n",
       "       'Vitamin B-12', 'Folic acid', 'Folate, food', 'Folate, DFE',\n",
       "       'Cholesterol', 'Fatty acids, total saturated',\n",
       "       'Fatty acids, total monounsaturated',\n",
       "       'Fatty acids, total polyunsaturated', 'Tryptophan', 'Threonine',\n",
       "       'Isoleucine', 'Leucine', 'Lysine', 'Methionine', 'Cystine',\n",
       "       'Phenylalanine', 'Tyrosine', 'Valine', 'Arginine', 'Histidine',\n",
       "       'Alanine', 'Aspartic acid', 'Glutamic acid', 'Glycine', 'Proline',\n",
       "       'Serine', 'Sucrose', 'Lactose', 'Maltose', 'Alcohol, ethyl',\n",
       "       'Caffeine', 'Theobromine', 'Sugars, total', 'Fluoride, F',\n",
       "       'Carotene, beta', 'Carotene, alpha',\n",
       "       'Vitamin E (alpha-tocopherol)', 'Vitamin D',\n",
       "       'Vitamin D3 (cholecalciferol)', 'Vitamin D (D2 + D3)',\n",
       "       'Cryptoxanthin, beta', 'Lycopene', 'Lutein + zeaxanthin',\n",
       "       'Tocopherol, gamma', 'Tocopherol, delta', 'Choline, total',\n",
       "       'Vitamin K (phylloquinone)', 'Betaine', 'Vitamin E, added',\n",
       "       'Vitamin B-12, added', 'Dihydrophylloquinone', 'Tocopherol, beta',\n",
       "       'Phytosterols', 'Glucose (dextrose)', 'Fructose', 'Galactose',\n",
       "       'Fatty acids, total trans', 'Stigmasterol', 'Campesterol',\n",
       "       'Beta-sitosterol', 'Fatty acids, total trans-monoenoic',\n",
       "       'Fatty acids, total trans-polyenoic', 'Hydroxyproline', 'Starch',\n",
       "       'Menaquinone-4', 'Vitamin D2 (ergocalciferol)', 'Adjusted Protein'],\n",
       "      dtype=object)"
      ]
     },
     "execution_count": 38,
     "metadata": {},
     "output_type": "execute_result"
    }
   ],
   "source": [
    "ndata[\"nutrient\"].unique()"
   ]
  },
  {
   "cell_type": "code",
   "execution_count": 39,
   "metadata": {},
   "outputs": [
    {
     "data": {
      "text/plain": [
       "<Axes: ylabel='fgroup'>"
      ]
     },
     "execution_count": 39,
     "metadata": {},
     "output_type": "execute_result"
    },
    {
     "data": {
      "image/png": "[encoded data removed]",
      "text/plain": [
       "<Figure size 640x480 with 1 Axes>"
      ]
     },
     "metadata": {},
     "output_type": "display_data"
    }
   ],
   "source": [
    "result = ndata.groupby([\"nutrient\", \"fgroup\"])[\"value\"].quantile(0.75)\n",
    "result[\"Zinc, Zn\"].sort_values().plot(kind=\"barh\")"
   ]
  },
  {
   "cell_type": "code",
   "execution_count": 40,
   "metadata": {},
   "outputs": [
    {
     "data": {
      "text/html": [
       "<div>\n",
       "<style scoped>\n",
       "    .dataframe tbody tr th:only-of-type {\n",
       "        vertical-align: middle;\n",
       "    }\n",
       "\n",
       "    .dataframe tbody tr th {\n",
       "        vertical-align: top;\n",
       "    }\n",
       "\n",
       "    .dataframe thead th {\n",
       "        text-align: right;\n",
       "    }\n",
       "</style>\n",
       "<table border=\"1\" class=\"dataframe\">\n",
       "  <thead>\n",
       "    <tr style=\"text-align: right;\">\n",
       "      <th></th>\n",
       "      <th>value</th>\n",
       "      <th>units</th>\n",
       "      <th>nutrient</th>\n",
       "      <th>nutgroup</th>\n",
       "      <th>id</th>\n",
       "      <th>food</th>\n",
       "      <th>fgroup</th>\n",
       "      <th>manufacturer</th>\n",
       "    </tr>\n",
       "  </thead>\n",
       "  <tbody>\n",
       "    <tr>\n",
       "      <th>0</th>\n",
       "      <td>25.18</td>\n",
       "      <td>g</td>\n",
       "      <td>Protein</td>\n",
       "      <td>Composition</td>\n",
       "      <td>1008</td>\n",
       "      <td>Cheese, caraway</td>\n",
       "      <td>Dairy and Egg Products</td>\n",
       "      <td></td>\n",
       "    </tr>\n",
       "    <tr>\n",
       "      <th>1</th>\n",
       "      <td>29.20</td>\n",
       "      <td>g</td>\n",
       "      <td>Total lipid (fat)</td>\n",
       "      <td>Composition</td>\n",
       "      <td>1008</td>\n",
       "      <td>Cheese, caraway</td>\n",
       "      <td>Dairy and Egg Products</td>\n",
       "      <td></td>\n",
       "    </tr>\n",
       "    <tr>\n",
       "      <th>2</th>\n",
       "      <td>3.06</td>\n",
       "      <td>g</td>\n",
       "      <td>Carbohydrate, by difference</td>\n",
       "      <td>Composition</td>\n",
       "      <td>1008</td>\n",
       "      <td>Cheese, caraway</td>\n",
       "      <td>Dairy and Egg Products</td>\n",
       "      <td></td>\n",
       "    </tr>\n",
       "    <tr>\n",
       "      <th>3</th>\n",
       "      <td>3.28</td>\n",
       "      <td>g</td>\n",
       "      <td>Ash</td>\n",
       "      <td>Other</td>\n",
       "      <td>1008</td>\n",
       "      <td>Cheese, caraway</td>\n",
       "      <td>Dairy and Egg Products</td>\n",
       "      <td></td>\n",
       "    </tr>\n",
       "    <tr>\n",
       "      <th>4</th>\n",
       "      <td>376.00</td>\n",
       "      <td>kcal</td>\n",
       "      <td>Energy</td>\n",
       "      <td>Energy</td>\n",
       "      <td>1008</td>\n",
       "      <td>Cheese, caraway</td>\n",
       "      <td>Dairy and Egg Products</td>\n",
       "      <td></td>\n",
       "    </tr>\n",
       "  </tbody>\n",
       "</table>\n",
       "</div>"
      ],
      "text/plain": [
       "    value units                     nutrient     nutgroup    id  \\\n",
       "0   25.18     g                      Protein  Composition  1008   \n",
       "1   29.20     g            Total lipid (fat)  Composition  1008   \n",
       "2    3.06     g  Carbohydrate, by difference  Composition  1008   \n",
       "3    3.28     g                          Ash        Other  1008   \n",
       "4  376.00  kcal                       Energy       Energy  1008   \n",
       "\n",
       "              food                  fgroup manufacturer  \n",
       "0  Cheese, caraway  Dairy and Egg Products               \n",
       "1  Cheese, caraway  Dairy and Egg Products               \n",
       "2  Cheese, caraway  Dairy and Egg Products               \n",
       "3  Cheese, caraway  Dairy and Egg Products               \n",
       "4  Cheese, caraway  Dairy and Egg Products               "
      ]
     },
     "execution_count": 40,
     "metadata": {},
     "output_type": "execute_result"
    }
   ],
   "source": [
    "ndata.head()"
   ]
  },
  {
   "cell_type": "code",
   "execution_count": 41,
   "metadata": {},
   "outputs": [],
   "source": [
    "by_nutrient = ndata.groupby([\"nutgroup\", \"nutrient\"])"
   ]
  },
  {
   "cell_type": "code",
   "execution_count": 42,
   "metadata": {},
   "outputs": [
    {
     "data": {
      "text/plain": [
       "nutgroup     nutrient                    \n",
       "Amino Acids  Alanine                          3162.124\n",
       "             Arginine                         3687.006\n",
       "             Aspartic acid                    5259.967\n",
       "             Cystine                           728.217\n",
       "             Glutamic acid                    9867.106\n",
       "                                               ...    \n",
       "Vitamins     Vitamin D2 (ergocalciferol)        84.800\n",
       "             Vitamin D3 (cholecalciferol)      949.800\n",
       "             Vitamin E (alpha-tocopherol)     5346.050\n",
       "             Vitamin E, added                 1027.270\n",
       "             Vitamin K (phylloquinone)       58662.900\n",
       "Name: value, Length: 94, dtype: float64"
      ]
     },
     "execution_count": 42,
     "metadata": {},
     "output_type": "execute_result"
    }
   ],
   "source": [
    "ndata.groupby([\"nutgroup\", \"nutrient\"])[\"value\"].sum()"
   ]
  },
  {
   "cell_type": "code",
   "execution_count": 43,
   "metadata": {},
   "outputs": [],
   "source": [
    "def get_max(x):\n",
    "    return x.loc[x.value.idxmax()]"
   ]
  },
  {
   "cell_type": "code",
   "execution_count": 44,
   "metadata": {},
   "outputs": [
    {
     "data": {
      "text/plain": [
       "value                      100000.0\n",
       "units                            IU\n",
       "nutrient              Vitamin A, IU\n",
       "nutgroup                   Vitamins\n",
       "id                             4589\n",
       "food            Fish oil, cod liver\n",
       "fgroup                Fats and Oils\n",
       "manufacturer                       \n",
       "Name: 18475, dtype: object"
      ]
     },
     "execution_count": 44,
     "metadata": {},
     "output_type": "execute_result"
    }
   ],
   "source": [
    "ndata.loc[ndata.value.idxmax()]"
   ]
  },
  {
   "cell_type": "code",
   "execution_count": 45,
   "metadata": {},
   "outputs": [],
   "source": [
    "max_foods = by_nutrient.apply(get_max)[[\"value\", \"food\"]]"
   ]
  },
  {
   "cell_type": "code",
   "execution_count": 46,
   "metadata": {},
   "outputs": [
    {
     "data": {
      "text/html": [
       "<div>\n",
       "<style scoped>\n",
       "    .dataframe tbody tr th:only-of-type {\n",
       "        vertical-align: middle;\n",
       "    }\n",
       "\n",
       "    .dataframe tbody tr th {\n",
       "        vertical-align: top;\n",
       "    }\n",
       "\n",
       "    .dataframe thead th {\n",
       "        text-align: right;\n",
       "    }\n",
       "</style>\n",
       "<table border=\"1\" class=\"dataframe\">\n",
       "  <thead>\n",
       "    <tr style=\"text-align: right;\">\n",
       "      <th></th>\n",
       "      <th></th>\n",
       "      <th>value</th>\n",
       "      <th>food</th>\n",
       "    </tr>\n",
       "    <tr>\n",
       "      <th>nutgroup</th>\n",
       "      <th>nutrient</th>\n",
       "      <th></th>\n",
       "      <th></th>\n",
       "    </tr>\n",
       "  </thead>\n",
       "  <tbody>\n",
       "    <tr>\n",
       "      <th rowspan=\"5\" valign=\"top\">Amino Acids</th>\n",
       "      <th>Alanine</th>\n",
       "      <td>8.009</td>\n",
       "      <td>Gelatins, dry powder, unsweetened</td>\n",
       "    </tr>\n",
       "    <tr>\n",
       "      <th>Arginine</th>\n",
       "      <td>7.436</td>\n",
       "      <td>Seeds, sesame flour, low-fat</td>\n",
       "    </tr>\n",
       "    <tr>\n",
       "      <th>Aspartic acid</th>\n",
       "      <td>10.203</td>\n",
       "      <td>Soy protein isolate</td>\n",
       "    </tr>\n",
       "    <tr>\n",
       "      <th>Cystine</th>\n",
       "      <td>1.307</td>\n",
       "      <td>Seeds, cottonseed flour, low fat (glandless)</td>\n",
       "    </tr>\n",
       "    <tr>\n",
       "      <th>Glutamic acid</th>\n",
       "      <td>17.452</td>\n",
       "      <td>Soy protein isolate</td>\n",
       "    </tr>\n",
       "    <tr>\n",
       "      <th>...</th>\n",
       "      <th>...</th>\n",
       "      <td>...</td>\n",
       "      <td>...</td>\n",
       "    </tr>\n",
       "    <tr>\n",
       "      <th rowspan=\"5\" valign=\"top\">Vitamins</th>\n",
       "      <th>Vitamin D2 (ergocalciferol)</th>\n",
       "      <td>28.100</td>\n",
       "      <td>Mushrooms, maitake, raw</td>\n",
       "    </tr>\n",
       "    <tr>\n",
       "      <th>Vitamin D3 (cholecalciferol)</th>\n",
       "      <td>27.400</td>\n",
       "      <td>Fish, halibut, Greenland, raw</td>\n",
       "    </tr>\n",
       "    <tr>\n",
       "      <th>Vitamin E (alpha-tocopherol)</th>\n",
       "      <td>149.400</td>\n",
       "      <td>Oil, wheat germ</td>\n",
       "    </tr>\n",
       "    <tr>\n",
       "      <th>Vitamin E, added</th>\n",
       "      <td>46.550</td>\n",
       "      <td>Cereals ready-to-eat, GENERAL MILLS, Multi-Gra...</td>\n",
       "    </tr>\n",
       "    <tr>\n",
       "      <th>Vitamin K (phylloquinone)</th>\n",
       "      <td>1714.500</td>\n",
       "      <td>Spices, sage, ground</td>\n",
       "    </tr>\n",
       "  </tbody>\n",
       "</table>\n",
       "<p>94 rows × 2 columns</p>\n",
       "</div>"
      ],
      "text/plain": [
       "                                             value  \\\n",
       "nutgroup    nutrient                                 \n",
       "Amino Acids Alanine                          8.009   \n",
       "            Arginine                         7.436   \n",
       "            Aspartic acid                   10.203   \n",
       "            Cystine                          1.307   \n",
       "            Glutamic acid                   17.452   \n",
       "...                                            ...   \n",
       "Vitamins    Vitamin D2 (ergocalciferol)     28.100   \n",
       "            Vitamin D3 (cholecalciferol)    27.400   \n",
       "            Vitamin E (alpha-tocopherol)   149.400   \n",
       "            Vitamin E, added                46.550   \n",
       "            Vitamin K (phylloquinone)     1714.500   \n",
       "\n",
       "                                                                                       food  \n",
       "nutgroup    nutrient                                                                         \n",
       "Amino Acids Alanine                                       Gelatins, dry powder, unsweetened  \n",
       "            Arginine                                           Seeds, sesame flour, low-fat  \n",
       "            Aspartic acid                                               Soy protein isolate  \n",
       "            Cystine                            Seeds, cottonseed flour, low fat (glandless)  \n",
       "            Glutamic acid                                               Soy protein isolate  \n",
       "...                                                                                     ...  \n",
       "Vitamins    Vitamin D2 (ergocalciferol)                             Mushrooms, maitake, raw  \n",
       "            Vitamin D3 (cholecalciferol)                      Fish, halibut, Greenland, raw  \n",
       "            Vitamin E (alpha-tocopherol)                                    Oil, wheat germ  \n",
       "            Vitamin E, added              Cereals ready-to-eat, GENERAL MILLS, Multi-Gra...  \n",
       "            Vitamin K (phylloquinone)                                  Spices, sage, ground  \n",
       "\n",
       "[94 rows x 2 columns]"
      ]
     },
     "execution_count": 46,
     "metadata": {},
     "output_type": "execute_result"
    }
   ],
   "source": [
    "max_foods"
   ]
  },
  {
   "cell_type": "code",
   "execution_count": 47,
   "metadata": {},
   "outputs": [
    {
     "data": {
      "text/plain": [
       "nutrient\n",
       "Alanine                           Gelatins, dry powder, unsweetened\n",
       "Arginine                               Seeds, sesame flour, low-fat\n",
       "Aspartic acid                                   Soy protein isolate\n",
       "Cystine                Seeds, cottonseed flour, low fat (glandless)\n",
       "Glutamic acid                                   Soy protein isolate\n",
       "Glycine                           Gelatins, dry powder, unsweetened\n",
       "Histidine                Whale, beluga, meat, dried (Alaska Native)\n",
       "Hydroxyproline    KENTUCKY FRIED CHICKEN, Fried Chicken, ORIGINA...\n",
       "Isoleucine        Soy protein isolate, PROTEIN TECHNOLOGIES INTE...\n",
       "Leucine           Soy protein isolate, PROTEIN TECHNOLOGIES INTE...\n",
       "Lysine            Seal, bearded (Oogruk), meat, dried (Alaska Na...\n",
       "Methionine                    Fish, cod, Atlantic, dried and salted\n",
       "Phenylalanine     Soy protein isolate, PROTEIN TECHNOLOGIES INTE...\n",
       "Proline                           Gelatins, dry powder, unsweetened\n",
       "Serine            Soy protein isolate, PROTEIN TECHNOLOGIES INTE...\n",
       "Threonine         Soy protein isolate, PROTEIN TECHNOLOGIES INTE...\n",
       "Tryptophan         Sea lion, Steller, meat with fat (Alaska Native)\n",
       "Tyrosine          Soy protein isolate, PROTEIN TECHNOLOGIES INTE...\n",
       "Valine            Soy protein isolate, PROTEIN TECHNOLOGIES INTE...\n",
       "Name: food, dtype: object"
      ]
     },
     "execution_count": 47,
     "metadata": {},
     "output_type": "execute_result"
    }
   ],
   "source": [
    "max_foods.loc[\"Amino Acids\"][\"food\"]"
   ]
  },
  {
   "cell_type": "code",
   "execution_count": 48,
   "metadata": {},
   "outputs": [
    {
     "data": {
      "text/plain": [
       "array(['Composition', 'Other', 'Energy', 'Elements', 'Vitamins',\n",
       "       'Amino Acids', 'Sugars'], dtype=object)"
      ]
     },
     "execution_count": 48,
     "metadata": {},
     "output_type": "execute_result"
    }
   ],
   "source": [
    "ndata[\"nutgroup\"].unique()"
   ]
  },
  {
   "cell_type": "code",
   "execution_count": 49,
   "metadata": {},
   "outputs": [
    {
     "data": {
      "text/plain": [
       "202230"
      ]
     },
     "execution_count": 49,
     "metadata": {},
     "output_type": "execute_result"
    }
   ],
   "source": [
    "ndata[ndata[\"nutgroup\"] == \"Amino Acids\"][\"value\"].idxmax()"
   ]
  },
  {
   "cell_type": "code",
   "execution_count": 50,
   "metadata": {},
   "outputs": [
    {
     "data": {
      "text/html": [
       "<div>\n",
       "<style scoped>\n",
       "    .dataframe tbody tr th:only-of-type {\n",
       "        vertical-align: middle;\n",
       "    }\n",
       "\n",
       "    .dataframe tbody tr th {\n",
       "        vertical-align: top;\n",
       "    }\n",
       "\n",
       "    .dataframe thead th {\n",
       "        text-align: right;\n",
       "    }\n",
       "</style>\n",
       "<table border=\"1\" class=\"dataframe\">\n",
       "  <thead>\n",
       "    <tr style=\"text-align: right;\">\n",
       "      <th></th>\n",
       "      <th>value</th>\n",
       "      <th>units</th>\n",
       "      <th>nutrient</th>\n",
       "      <th>nutgroup</th>\n",
       "      <th>id</th>\n",
       "      <th>food</th>\n",
       "      <th>fgroup</th>\n",
       "      <th>manufacturer</th>\n",
       "    </tr>\n",
       "  </thead>\n",
       "  <tbody>\n",
       "    <tr>\n",
       "      <th>375168</th>\n",
       "      <td>17.000</td>\n",
       "      <td>mcg</td>\n",
       "      <td>Folate, food</td>\n",
       "      <td>Vitamins</td>\n",
       "      <td>43546</td>\n",
       "      <td>Babyfood, banana no tapioca, strained</td>\n",
       "      <td>Baby Foods</td>\n",
       "      <td>None</td>\n",
       "    </tr>\n",
       "    <tr>\n",
       "      <th>375169</th>\n",
       "      <td>17.000</td>\n",
       "      <td>mcg_DFE</td>\n",
       "      <td>Folate, DFE</td>\n",
       "      <td>Vitamins</td>\n",
       "      <td>43546</td>\n",
       "      <td>Babyfood, banana no tapioca, strained</td>\n",
       "      <td>Baby Foods</td>\n",
       "      <td>None</td>\n",
       "    </tr>\n",
       "    <tr>\n",
       "      <th>375170</th>\n",
       "      <td>0.000</td>\n",
       "      <td>mg</td>\n",
       "      <td>Vitamin E, added</td>\n",
       "      <td>Vitamins</td>\n",
       "      <td>43546</td>\n",
       "      <td>Babyfood, banana no tapioca, strained</td>\n",
       "      <td>Baby Foods</td>\n",
       "      <td>None</td>\n",
       "    </tr>\n",
       "    <tr>\n",
       "      <th>375171</th>\n",
       "      <td>0.000</td>\n",
       "      <td>mcg</td>\n",
       "      <td>Vitamin B-12, added</td>\n",
       "      <td>Vitamins</td>\n",
       "      <td>43546</td>\n",
       "      <td>Babyfood, banana no tapioca, strained</td>\n",
       "      <td>Baby Foods</td>\n",
       "      <td>None</td>\n",
       "    </tr>\n",
       "    <tr>\n",
       "      <th>375172</th>\n",
       "      <td>0.000</td>\n",
       "      <td>mg</td>\n",
       "      <td>Cholesterol</td>\n",
       "      <td>Other</td>\n",
       "      <td>43546</td>\n",
       "      <td>Babyfood, banana no tapioca, strained</td>\n",
       "      <td>Baby Foods</td>\n",
       "      <td>None</td>\n",
       "    </tr>\n",
       "    <tr>\n",
       "      <th>375173</th>\n",
       "      <td>0.072</td>\n",
       "      <td>g</td>\n",
       "      <td>Fatty acids, total saturated</td>\n",
       "      <td>Other</td>\n",
       "      <td>43546</td>\n",
       "      <td>Babyfood, banana no tapioca, strained</td>\n",
       "      <td>Baby Foods</td>\n",
       "      <td>None</td>\n",
       "    </tr>\n",
       "    <tr>\n",
       "      <th>375174</th>\n",
       "      <td>0.028</td>\n",
       "      <td>g</td>\n",
       "      <td>Fatty acids, total monounsaturated</td>\n",
       "      <td>Other</td>\n",
       "      <td>43546</td>\n",
       "      <td>Babyfood, banana no tapioca, strained</td>\n",
       "      <td>Baby Foods</td>\n",
       "      <td>None</td>\n",
       "    </tr>\n",
       "    <tr>\n",
       "      <th>375175</th>\n",
       "      <td>0.041</td>\n",
       "      <td>g</td>\n",
       "      <td>Fatty acids, total polyunsaturated</td>\n",
       "      <td>Other</td>\n",
       "      <td>43546</td>\n",
       "      <td>Babyfood, banana no tapioca, strained</td>\n",
       "      <td>Baby Foods</td>\n",
       "      <td>None</td>\n",
       "    </tr>\n",
       "  </tbody>\n",
       "</table>\n",
       "</div>"
      ],
      "text/plain": [
       "         value    units                            nutrient  nutgroup     id  \\\n",
       "375168  17.000      mcg                        Folate, food  Vitamins  43546   \n",
       "375169  17.000  mcg_DFE                         Folate, DFE  Vitamins  43546   \n",
       "375170   0.000       mg                    Vitamin E, added  Vitamins  43546   \n",
       "375171   0.000      mcg                 Vitamin B-12, added  Vitamins  43546   \n",
       "375172   0.000       mg                         Cholesterol     Other  43546   \n",
       "375173   0.072        g        Fatty acids, total saturated     Other  43546   \n",
       "375174   0.028        g  Fatty acids, total monounsaturated     Other  43546   \n",
       "375175   0.041        g  Fatty acids, total polyunsaturated     Other  43546   \n",
       "\n",
       "                                         food      fgroup manufacturer  \n",
       "375168  Babyfood, banana no tapioca, strained  Baby Foods         None  \n",
       "375169  Babyfood, banana no tapioca, strained  Baby Foods         None  \n",
       "375170  Babyfood, banana no tapioca, strained  Baby Foods         None  \n",
       "375171  Babyfood, banana no tapioca, strained  Baby Foods         None  \n",
       "375172  Babyfood, banana no tapioca, strained  Baby Foods         None  \n",
       "375173  Babyfood, banana no tapioca, strained  Baby Foods         None  \n",
       "375174  Babyfood, banana no tapioca, strained  Baby Foods         None  \n",
       "375175  Babyfood, banana no tapioca, strained  Baby Foods         None  "
      ]
     },
     "execution_count": 50,
     "metadata": {},
     "output_type": "execute_result"
    }
   ],
   "source": [
    "ndata.tail(8)"
   ]
  },
  {
   "cell_type": "code",
   "execution_count": 51,
   "metadata": {},
   "outputs": [],
   "source": [
    "# work on nutrient group, nutrient and food and foodgroup.\n",
    "# result = ndata.groupby([\"nutrient\", \"fgroup\"])[\"value\"].quantile(0.75)\n",
    "# result[\"Zinc, Zn\"].sort_values().plot(kind=\"barh\")"
   ]
  },
  {
   "cell_type": "code",
   "execution_count": 52,
   "metadata": {},
   "outputs": [
    {
     "data": {
      "text/plain": [
       "array(['Protein', 'Total lipid (fat)', 'Carbohydrate, by difference',\n",
       "       'Ash', 'Energy', 'Water', 'Fiber, total dietary', 'Calcium, Ca',\n",
       "       'Iron, Fe', 'Magnesium, Mg', 'Phosphorus, P', 'Potassium, K',\n",
       "       'Sodium, Na', 'Zinc, Zn', 'Copper, Cu', 'Manganese, Mn',\n",
       "       'Selenium, Se', 'Vitamin A, IU', 'Retinol', 'Vitamin A, RAE',\n",
       "       'Vitamin C, total ascorbic acid', 'Thiamin', 'Riboflavin',\n",
       "       'Niacin', 'Pantothenic acid', 'Vitamin B-6', 'Folate, total',\n",
       "       'Vitamin B-12', 'Folic acid', 'Folate, food', 'Folate, DFE',\n",
       "       'Cholesterol', 'Fatty acids, total saturated',\n",
       "       'Fatty acids, total monounsaturated',\n",
       "       'Fatty acids, total polyunsaturated', 'Tryptophan', 'Threonine',\n",
       "       'Isoleucine', 'Leucine', 'Lysine', 'Methionine', 'Cystine',\n",
       "       'Phenylalanine', 'Tyrosine', 'Valine', 'Arginine', 'Histidine',\n",
       "       'Alanine', 'Aspartic acid', 'Glutamic acid', 'Glycine', 'Proline',\n",
       "       'Serine', 'Sucrose', 'Lactose', 'Maltose', 'Alcohol, ethyl',\n",
       "       'Caffeine', 'Theobromine', 'Sugars, total', 'Fluoride, F',\n",
       "       'Carotene, beta', 'Carotene, alpha',\n",
       "       'Vitamin E (alpha-tocopherol)', 'Vitamin D',\n",
       "       'Vitamin D3 (cholecalciferol)', 'Vitamin D (D2 + D3)',\n",
       "       'Cryptoxanthin, beta', 'Lycopene', 'Lutein + zeaxanthin',\n",
       "       'Tocopherol, gamma', 'Tocopherol, delta', 'Choline, total',\n",
       "       'Vitamin K (phylloquinone)', 'Betaine', 'Vitamin E, added',\n",
       "       'Vitamin B-12, added', 'Dihydrophylloquinone', 'Tocopherol, beta',\n",
       "       'Phytosterols', 'Glucose (dextrose)', 'Fructose', 'Galactose',\n",
       "       'Fatty acids, total trans', 'Stigmasterol', 'Campesterol',\n",
       "       'Beta-sitosterol', 'Fatty acids, total trans-monoenoic',\n",
       "       'Fatty acids, total trans-polyenoic', 'Hydroxyproline', 'Starch',\n",
       "       'Menaquinone-4', 'Vitamin D2 (ergocalciferol)', 'Adjusted Protein'],\n",
       "      dtype=object)"
      ]
     },
     "execution_count": 52,
     "metadata": {},
     "output_type": "execute_result"
    }
   ],
   "source": [
    "ndata[\"nutrient\"].unique()"
   ]
  },
  {
   "cell_type": "code",
   "execution_count": 53,
   "metadata": {},
   "outputs": [],
   "source": [
    "table = ndata.pivot_table(\"value\", index=\"food\", columns=[\"nutrient\"])"
   ]
  },
  {
   "cell_type": "code",
   "execution_count": 54,
   "metadata": {},
   "outputs": [],
   "source": [
    "subtable = table.reindex(columns=[\"Protein\", \"Total lipid (fat)\", \"Water\"], level=\"nutrient\")"
   ]
  },
  {
   "cell_type": "code",
   "execution_count": 55,
   "metadata": {},
   "outputs": [
    {
     "data": {
      "text/html": [
       "<div>\n",
       "<style scoped>\n",
       "    .dataframe tbody tr th:only-of-type {\n",
       "        vertical-align: middle;\n",
       "    }\n",
       "\n",
       "    .dataframe tbody tr th {\n",
       "        vertical-align: top;\n",
       "    }\n",
       "\n",
       "    .dataframe thead th {\n",
       "        text-align: right;\n",
       "    }\n",
       "</style>\n",
       "<table border=\"1\" class=\"dataframe\">\n",
       "  <thead>\n",
       "    <tr style=\"text-align: right;\">\n",
       "      <th>nutrient</th>\n",
       "      <th>Protein</th>\n",
       "      <th>Total lipid (fat)</th>\n",
       "      <th>Water</th>\n",
       "    </tr>\n",
       "    <tr>\n",
       "      <th>food</th>\n",
       "      <th></th>\n",
       "      <th></th>\n",
       "      <th></th>\n",
       "    </tr>\n",
       "  </thead>\n",
       "  <tbody>\n",
       "    <tr>\n",
       "      <th>AMARANTH FLAKES</th>\n",
       "      <td>15.54</td>\n",
       "      <td>7.00</td>\n",
       "      <td>3.00</td>\n",
       "    </tr>\n",
       "    <tr>\n",
       "      <th>APPLEBEE'S, 9 oz house sirloin steak</th>\n",
       "      <td>25.63</td>\n",
       "      <td>8.19</td>\n",
       "      <td>64.11</td>\n",
       "    </tr>\n",
       "    <tr>\n",
       "      <th>APPLEBEE'S, Double Crunch Shrimp</th>\n",
       "      <td>14.18</td>\n",
       "      <td>19.00</td>\n",
       "      <td>40.46</td>\n",
       "    </tr>\n",
       "    <tr>\n",
       "      <th>APPLEBEE'S, French fries</th>\n",
       "      <td>3.39</td>\n",
       "      <td>13.37</td>\n",
       "      <td>43.28</td>\n",
       "    </tr>\n",
       "    <tr>\n",
       "      <th>APPLEBEE'S, KRAFT, Macaroni &amp; Cheese, from kid's menu</th>\n",
       "      <td>7.04</td>\n",
       "      <td>6.32</td>\n",
       "      <td>65.09</td>\n",
       "    </tr>\n",
       "  </tbody>\n",
       "</table>\n",
       "</div>"
      ],
      "text/plain": [
       "nutrient                                            Protein  \\\n",
       "food                                                          \n",
       "AMARANTH FLAKES                                       15.54   \n",
       "APPLEBEE'S, 9 oz house sirloin steak                  25.63   \n",
       "APPLEBEE'S, Double Crunch Shrimp                      14.18   \n",
       "APPLEBEE'S, French fries                               3.39   \n",
       "APPLEBEE'S, KRAFT, Macaroni & Cheese, from kid'...     7.04   \n",
       "\n",
       "nutrient                                            Total lipid (fat)  Water  \n",
       "food                                                                          \n",
       "AMARANTH FLAKES                                                  7.00   3.00  \n",
       "APPLEBEE'S, 9 oz house sirloin steak                             8.19  64.11  \n",
       "APPLEBEE'S, Double Crunch Shrimp                                19.00  40.46  \n",
       "APPLEBEE'S, French fries                                        13.37  43.28  \n",
       "APPLEBEE'S, KRAFT, Macaroni & Cheese, from kid'...               6.32  65.09  "
      ]
     },
     "execution_count": 55,
     "metadata": {},
     "output_type": "execute_result"
    }
   ],
   "source": [
    "subtable.head()"
   ]
  },
  {
   "cell_type": "code",
   "execution_count": 56,
   "metadata": {},
   "outputs": [],
   "source": [
    "subtable.index = subtable.index.str[:30]"
   ]
  },
  {
   "cell_type": "code",
   "execution_count": 57,
   "metadata": {},
   "outputs": [
    {
     "data": {
      "text/plain": [
       "Index(['AMARANTH FLAKES', 'APPLEBEE'S, 9 oz house sirloin',\n",
       "       'APPLEBEE'S, Double Crunch Shri'],\n",
       "      dtype='object', name='food')"
      ]
     },
     "execution_count": 57,
     "metadata": {},
     "output_type": "execute_result"
    }
   ],
   "source": [
    "subtable.index[:3]"
   ]
  },
  {
   "cell_type": "code",
   "execution_count": 58,
   "metadata": {},
   "outputs": [
    {
     "data": {
      "text/html": [
       "<div>\n",
       "<style scoped>\n",
       "    .dataframe tbody tr th:only-of-type {\n",
       "        vertical-align: middle;\n",
       "    }\n",
       "\n",
       "    .dataframe tbody tr th {\n",
       "        vertical-align: top;\n",
       "    }\n",
       "\n",
       "    .dataframe thead th {\n",
       "        text-align: right;\n",
       "    }\n",
       "</style>\n",
       "<table border=\"1\" class=\"dataframe\">\n",
       "  <thead>\n",
       "    <tr style=\"text-align: right;\">\n",
       "      <th>nutrient</th>\n",
       "      <th>Protein</th>\n",
       "      <th>Total lipid (fat)</th>\n",
       "      <th>Water</th>\n",
       "    </tr>\n",
       "    <tr>\n",
       "      <th>food</th>\n",
       "      <th></th>\n",
       "      <th></th>\n",
       "      <th></th>\n",
       "    </tr>\n",
       "  </thead>\n",
       "  <tbody>\n",
       "    <tr>\n",
       "      <th>AMARANTH FLAKES</th>\n",
       "      <td>15.54</td>\n",
       "      <td>7.00</td>\n",
       "      <td>3.00</td>\n",
       "    </tr>\n",
       "    <tr>\n",
       "      <th>APPLEBEE'S, 9 oz house sirloin</th>\n",
       "      <td>25.63</td>\n",
       "      <td>8.19</td>\n",
       "      <td>64.11</td>\n",
       "    </tr>\n",
       "    <tr>\n",
       "      <th>APPLEBEE'S, Double Crunch Shri</th>\n",
       "      <td>14.18</td>\n",
       "      <td>19.00</td>\n",
       "      <td>40.46</td>\n",
       "    </tr>\n",
       "    <tr>\n",
       "      <th>APPLEBEE'S, French fries</th>\n",
       "      <td>3.39</td>\n",
       "      <td>13.37</td>\n",
       "      <td>43.28</td>\n",
       "    </tr>\n",
       "    <tr>\n",
       "      <th>APPLEBEE'S, KRAFT, Macaroni &amp;</th>\n",
       "      <td>7.04</td>\n",
       "      <td>6.32</td>\n",
       "      <td>65.09</td>\n",
       "    </tr>\n",
       "  </tbody>\n",
       "</table>\n",
       "</div>"
      ],
      "text/plain": [
       "nutrient                        Protein  Total lipid (fat)  Water\n",
       "food                                                             \n",
       "AMARANTH FLAKES                   15.54               7.00   3.00\n",
       "APPLEBEE'S, 9 oz house sirloin    25.63               8.19  64.11\n",
       "APPLEBEE'S, Double Crunch Shri    14.18              19.00  40.46\n",
       "APPLEBEE'S, French fries           3.39              13.37  43.28\n",
       "APPLEBEE'S, KRAFT, Macaroni &      7.04               6.32  65.09"
      ]
     },
     "execution_count": 58,
     "metadata": {},
     "output_type": "execute_result"
    }
   ],
   "source": [
    "subtable.head()"
   ]
  },
  {
   "cell_type": "code",
   "execution_count": 59,
   "metadata": {},
   "outputs": [],
   "source": [
    "subtable = subtable / subtable.sum()"
   ]
  },
  {
   "cell_type": "code",
   "execution_count": 60,
   "metadata": {},
   "outputs": [
    {
     "data": {
      "text/html": [
       "<div>\n",
       "<style scoped>\n",
       "    .dataframe tbody tr th:only-of-type {\n",
       "        vertical-align: middle;\n",
       "    }\n",
       "\n",
       "    .dataframe tbody tr th {\n",
       "        vertical-align: top;\n",
       "    }\n",
       "\n",
       "    .dataframe thead th {\n",
       "        text-align: right;\n",
       "    }\n",
       "</style>\n",
       "<table border=\"1\" class=\"dataframe\">\n",
       "  <thead>\n",
       "    <tr style=\"text-align: right;\">\n",
       "      <th>nutrient</th>\n",
       "      <th>Protein</th>\n",
       "      <th>Total lipid (fat)</th>\n",
       "      <th>Water</th>\n",
       "    </tr>\n",
       "    <tr>\n",
       "      <th>food</th>\n",
       "      <th></th>\n",
       "      <th></th>\n",
       "      <th></th>\n",
       "    </tr>\n",
       "  </thead>\n",
       "  <tbody>\n",
       "    <tr>\n",
       "      <th>AMARANTH FLAKES</th>\n",
       "      <td>0.000212</td>\n",
       "      <td>0.000115</td>\n",
       "      <td>0.000008</td>\n",
       "    </tr>\n",
       "    <tr>\n",
       "      <th>APPLEBEE'S, 9 oz house sirloin</th>\n",
       "      <td>0.000349</td>\n",
       "      <td>0.000134</td>\n",
       "      <td>0.000177</td>\n",
       "    </tr>\n",
       "    <tr>\n",
       "      <th>APPLEBEE'S, Double Crunch Shri</th>\n",
       "      <td>0.000193</td>\n",
       "      <td>0.000311</td>\n",
       "      <td>0.000112</td>\n",
       "    </tr>\n",
       "    <tr>\n",
       "      <th>APPLEBEE'S, French fries</th>\n",
       "      <td>0.000046</td>\n",
       "      <td>0.000219</td>\n",
       "      <td>0.000120</td>\n",
       "    </tr>\n",
       "    <tr>\n",
       "      <th>APPLEBEE'S, KRAFT, Macaroni &amp;</th>\n",
       "      <td>0.000096</td>\n",
       "      <td>0.000104</td>\n",
       "      <td>0.000180</td>\n",
       "    </tr>\n",
       "  </tbody>\n",
       "</table>\n",
       "</div>"
      ],
      "text/plain": [
       "nutrient                         Protein  Total lipid (fat)     Water\n",
       "food                                                                 \n",
       "AMARANTH FLAKES                 0.000212           0.000115  0.000008\n",
       "APPLEBEE'S, 9 oz house sirloin  0.000349           0.000134  0.000177\n",
       "APPLEBEE'S, Double Crunch Shri  0.000193           0.000311  0.000112\n",
       "APPLEBEE'S, French fries        0.000046           0.000219  0.000120\n",
       "APPLEBEE'S, KRAFT, Macaroni &   0.000096           0.000104  0.000180"
      ]
     },
     "execution_count": 60,
     "metadata": {},
     "output_type": "execute_result"
    }
   ],
   "source": [
    "subtable.head()"
   ]
  },
  {
   "cell_type": "code",
   "execution_count": 61,
   "metadata": {},
   "outputs": [
    {
     "data": {
      "text/plain": [
       "nutrient\n",
       "Protein              0.000212\n",
       "Total lipid (fat)    0.000115\n",
       "Water                0.000008\n",
       "Name: AMARANTH FLAKES, dtype: float64"
      ]
     },
     "execution_count": 61,
     "metadata": {},
     "output_type": "execute_result"
    }
   ],
   "source": [
    "subtable.loc[\"AMARANTH FLAKES\"]"
   ]
  },
  {
   "cell_type": "code",
   "execution_count": 78,
   "metadata": {},
   "outputs": [
    {
     "data": {
      "text/plain": [
       "Index(['AMARANTH FLAKES', 'APPLEBEE'S, 9 oz house sirloin',\n",
       "       'APPLEBEE'S, Double Crunch Shri', 'APPLEBEE'S, French fries',\n",
       "       'APPLEBEE'S, KRAFT, Macaroni & ', 'APPLEBEE'S, chicken fingers, f',\n",
       "       'APPLEBEE'S, mozzarella sticks', 'ARCHWAY Home Style Cookies, Ap',\n",
       "       'ARCHWAY Home Style Cookies, Ap', 'ARCHWAY Home Style Cookies, Ch',\n",
       "       ...\n",
       "       'Yellow pond lily, Wocas, dried', 'Yellow pond lily, Wocas, tuber',\n",
       "       'Yogurt parfait, lowfat, with f', 'Yogurt, chocolate, nonfat milk',\n",
       "       'Yogurt, fruit variety, nonfat', 'Yogurt, fruit variety, nonfat,',\n",
       "       'Yogurt, fruit, lowfat, with lo', 'Yogurt, plain, skim milk, 13 g',\n",
       "       'Yogurt, vanilla or lemon flavo', 'Yogurt, vanilla, low fat, 11 g'],\n",
       "      dtype='object', name='food', length=6636)"
      ]
     },
     "execution_count": 78,
     "metadata": {},
     "output_type": "execute_result"
    }
   ],
   "source": [
    "subtable.index"
   ]
  },
  {
   "cell_type": "code",
   "execution_count": 106,
   "metadata": {},
   "outputs": [
    {
     "data": {
      "image/png": "[encoded data removed]",
      "text/plain": [
       "<Figure size 1500x600 with 1 Axes>"
      ]
     },
     "metadata": {},
     "output_type": "display_data"
    }
   ],
   "source": [
    "import matplotlib.pyplot as plt\n",
    "\n",
    "fig, ax = plt.subplots(figsize=(15, 6))\n",
    "# ax = fig.add_subplot()\n",
    "subtable.loc[[\"AMARANTH FLAKES\", \"APPLEBEE'S, French fries\", \"Yogurt, fruit variety, nonfat,\"]].plot(kind=\"bar\", ax=ax)\n",
    "ax.legend(loc='upper right', bbox_to_anchor=(1.0, 1.0))\n",
    "# plt.tight_layout()\n",
    "plt.xticks(rotation=50)\n",
    "plt.show()"
   ]
  },
  {
   "cell_type": "code",
   "execution_count": 115,
   "metadata": {},
   "outputs": [],
   "source": [
    "import matplotlib.pyplot as plt\n",
    "\n",
    "def plot(data: pd.DataFrame, nutrient1: str,\n",
    "         nutrient2: str, nutrient3: str,\n",
    "         food1: str, food2: str, food3: str):\n",
    "        \n",
    "        \"\"\"Plots food vs nutirents\"\"\"\n",
    "        # make the pivot table for analysis food vs nutrient.\n",
    "        subtable = data.pivot_table(\"value\", index=\"food\", columns=[\"nutrient\"])\n",
    "        subtable = subtable.reindex(columns=[nutrient1, nutrient2, nutrient3], level=\"nutrient\")\n",
    "        subtable = subtable / subtable.sum()\n",
    "\n",
    "        # plotting.\n",
    "        fig, ax = plt.subplots(figsize=(15, 8))\n",
    "        subtable.loc[[food1, food2, food3]].plot(kind=\"bar\", ax=ax)\n",
    "        plt.legend()\n",
    "        plt.xticks(rotation=45)\n",
    "        plt.show()"
   ]
  },
  {
   "cell_type": "code",
   "execution_count": 116,
   "metadata": {},
   "outputs": [
    {
     "data": {
      "image/png": "[encoded data removed]",
      "text/plain": [
       "<Figure size 1500x800 with 1 Axes>"
      ]
     },
     "metadata": {},
     "output_type": "display_data"
    }
   ],
   "source": [
    "plot(ndata, \"Protein\", \"Energy\", \"Water\", \n",
    "     \"Cheese, caraway\", \"Babyfood, juice, pear\", \n",
    "     \"Sour dressing, non-butterfat, cultured, filled cream-type\")"
   ]
  },
  {
   "cell_type": "code",
   "execution_count": 119,
   "metadata": {},
   "outputs": [
    {
     "data": {
      "application/vnd.plotly.v1+json": {
       "config": {
        "plotlyServerURL": "https://plot.ly"
       },
       "data": [
        {
         "alignmentgroup": "True",
         "hovertemplate": "<b>%{hovertext}</b><br><br>variable=Protein<br>food=%{x}<br>Normalized Value=%{y}<extra></extra>",
         "hovertext": [
          "Cheese, caraway",
          "Babyfood, juice, pear",
          "Sour dressing, non-butterfat, cultured, filled cream-type"
         ],
         "legendgroup": "Protein",
         "marker": {
          "color": "#636efa",
          "pattern": {
           "shape": ""
          }
         },
         "name": "Protein",
         "offsetgroup": "Protein",
         "orientation": "v",
         "showlegend": true,
         "textposition": "auto",
         "type": "bar",
         "x": [
          "Cheese, caraway",
          "Babyfood, juice, pear",
          "Sour dressing, non-butterfat, cultured, filled cream-type"
         ],
         "xaxis": "x",
         "y": [
          0.0003432019102634682,
          0,
          0.00004429730771867639
         ],
         "yaxis": "y"
        },
        {
         "alignmentgroup": "True",
         "hovertemplate": "<b>%{hovertext}</b><br><br>variable=Energy<br>food=%{x}<br>Normalized Value=%{y}<extra></extra>",
         "hovertext": [
          "Cheese, caraway",
          "Babyfood, juice, pear",
          "Sour dressing, non-butterfat, cultured, filled cream-type"
         ],
         "legendgroup": "Energy",
         "marker": {
          "color": "#EF553B",
          "pattern": {
           "shape": ""
          }
         },
         "name": "Energy",
         "offsetgroup": "Energy",
         "orientation": "v",
         "showlegend": true,
         "textposition": "auto",
         "type": "bar",
         "x": [
          "Cheese, caraway",
          "Babyfood, juice, pear",
          "Sour dressing, non-butterfat, cultured, filled cream-type"
         ],
         "xaxis": "x",
         "y": [
          0.00026084525372052457,
          0.00003278968043177451,
          0.00012326243133740542
         ],
         "yaxis": "y"
        },
        {
         "alignmentgroup": "True",
         "hovertemplate": "<b>%{hovertext}</b><br><br>variable=Water<br>food=%{x}<br>Normalized Value=%{y}<extra></extra>",
         "hovertext": [
          "Cheese, caraway",
          "Babyfood, juice, pear",
          "Sour dressing, non-butterfat, cultured, filled cream-type"
         ],
         "legendgroup": "Water",
         "marker": {
          "color": "#00cc96",
          "pattern": {
           "shape": ""
          }
         },
         "name": "Water",
         "offsetgroup": "Water",
         "orientation": "v",
         "showlegend": true,
         "textposition": "auto",
         "type": "bar",
         "x": [
          "Cheese, caraway",
          "Babyfood, juice, pear",
          "Sour dressing, non-butterfat, cultured, filled cream-type"
         ],
         "xaxis": "x",
         "y": [
          0.00010849413809873028,
          0.00024278601677388983,
          0.00020657526956222095
         ],
         "yaxis": "y"
        }
       ],
       "layout": {
        "barmode": "group",
        "legend": {
         "title": {
          "text": "variable"
         },
         "tracegroupgap": 0
        },
        "template": {
         "data": {
          "bar": [
           {
            "error_x": {
             "color": "#2a3f5f"
            },
            "error_y": {
             "color": "#2a3f5f"
            },
            "marker": {
             "line": {
              "color": "#E5ECF6",
              "width": 0.5
             },
             "pattern": {
              "fillmode": "overlay",
              "size": 10,
              "solidity": 0.2
             }
            },
            "type": "bar"
           }
          ],
          "barpolar": [
           {
            "marker": {
             "line": {
              "color": "#E5ECF6",
              "width": 0.5
             },
             "pattern": {
              "fillmode": "overlay",
              "size": 10,
              "solidity": 0.2
             }
            },
            "type": "barpolar"
           }
          ],
          "carpet": [
           {
            "aaxis": {
             "endlinecolor": "#2a3f5f",
             "gridcolor": "white",
             "linecolor": "white",
             "minorgridcolor": "white",
             "startlinecolor": "#2a3f5f"
            },
            "baxis": {
             "endlinecolor": "#2a3f5f",
             "gridcolor": "white",
             "linecolor": "white",
             "minorgridcolor": "white",
             "startlinecolor": "#2a3f5f"
            },
            "type": "carpet"
           }
          ],
          "choropleth": [
           {
            "colorbar": {
             "outlinewidth": 0,
             "ticks": ""
            },
            "type": "choropleth"
           }
          ],
          "contour": [
           {
            "colorbar": {
             "outlinewidth": 0,
             "ticks": ""
            },
            "colorscale": [
             [
              0,
              "#0d0887"
             ],
             [
              0.1111111111111111,
              "#46039f"
             ],
             [
              0.2222222222222222,
              "#7201a8"
             ],
             [
              0.3333333333333333,
              "#9c179e"
             ],
             [
              0.4444444444444444,
              "#bd3786"
             ],
             [
              0.5555555555555556,
              "#d8576b"
             ],
             [
              0.6666666666666666,
              "#ed7953"
             ],
             [
              0.7777777777777778,
              "#fb9f3a"
             ],
             [
              0.8888888888888888,
              "#fdca26"
             ],
             [
              1,
              "#f0f921"
             ]
            ],
            "type": "contour"
           }
          ],
          "contourcarpet": [
           {
            "colorbar": {
             "outlinewidth": 0,
             "ticks": ""
            },
            "type": "contourcarpet"
           }
          ],
          "heatmap": [
           {
            "colorbar": {
             "outlinewidth": 0,
             "ticks": ""
            },
            "colorscale": [
             [
              0,
              "#0d0887"
             ],
             [
              0.1111111111111111,
              "#46039f"
             ],
             [
              0.2222222222222222,
              "#7201a8"
             ],
             [
              0.3333333333333333,
              "#9c179e"
             ],
             [
              0.4444444444444444,
              "#bd3786"
             ],
             [
              0.5555555555555556,
              "#d8576b"
             ],
             [
              0.6666666666666666,
              "#ed7953"
             ],
             [
              0.7777777777777778,
              "#fb9f3a"
             ],
             [
              0.8888888888888888,
              "#fdca26"
             ],
             [
              1,
              "#f0f921"
             ]
            ],
            "type": "heatmap"
           }
          ],
          "heatmapgl": [
           {
            "colorbar": {
             "outlinewidth": 0,
             "ticks": ""
            },
            "colorscale": [
             [
              0,
              "#0d0887"
             ],
             [
              0.1111111111111111,
              "#46039f"
             ],
             [
              0.2222222222222222,
              "#7201a8"
             ],
             [
              0.3333333333333333,
              "#9c179e"
             ],
             [
              0.4444444444444444,
              "#bd3786"
             ],
             [
              0.5555555555555556,
              "#d8576b"
             ],
             [
              0.6666666666666666,
              "#ed7953"
             ],
             [
              0.7777777777777778,
              "#fb9f3a"
             ],
             [
              0.8888888888888888,
              "#fdca26"
             ],
             [
              1,
              "#f0f921"
             ]
            ],
            "type": "heatmapgl"
           }
          ],
          "histogram": [
           {
            "marker": {
             "pattern": {
              "fillmode": "overlay",
              "size": 10,
              "solidity": 0.2
             }
            },
            "type": "histogram"
           }
          ],
          "histogram2d": [
           {
            "colorbar": {
             "outlinewidth": 0,
             "ticks": ""
            },
            "colorscale": [
             [
              0,
              "#0d0887"
             ],
             [
              0.1111111111111111,
              "#46039f"
             ],
             [
              0.2222222222222222,
              "#7201a8"
             ],
             [
              0.3333333333333333,
              "#9c179e"
             ],
             [
              0.4444444444444444,
              "#bd3786"
             ],
             [
              0.5555555555555556,
              "#d8576b"
             ],
             [
              0.6666666666666666,
              "#ed7953"
             ],
             [
              0.7777777777777778,
              "#fb9f3a"
             ],
             [
              0.8888888888888888,
              "#fdca26"
             ],
             [
              1,
              "#f0f921"
             ]
            ],
            "type": "histogram2d"
           }
          ],
          "histogram2dcontour": [
           {
            "colorbar": {
             "outlinewidth": 0,
             "ticks": ""
            },
            "colorscale": [
             [
              0,
              "#0d0887"
             ],
             [
              0.1111111111111111,
              "#46039f"
             ],
             [
              0.2222222222222222,
              "#7201a8"
             ],
             [
              0.3333333333333333,
              "#9c179e"
             ],
             [
              0.4444444444444444,
              "#bd3786"
             ],
             [
              0.5555555555555556,
              "#d8576b"
             ],
             [
              0.6666666666666666,
              "#ed7953"
             ],
             [
              0.7777777777777778,
              "#fb9f3a"
             ],
             [
              0.8888888888888888,
              "#fdca26"
             ],
             [
              1,
              "#f0f921"
             ]
            ],
            "type": "histogram2dcontour"
           }
          ],
          "mesh3d": [
           {
            "colorbar": {
             "outlinewidth": 0,
             "ticks": ""
            },
            "type": "mesh3d"
           }
          ],
          "parcoords": [
           {
            "line": {
             "colorbar": {
              "outlinewidth": 0,
              "ticks": ""
             }
            },
            "type": "parcoords"
           }
          ],
          "pie": [
           {
            "automargin": true,
            "type": "pie"
           }
          ],
          "scatter": [
           {
            "fillpattern": {
             "fillmode": "overlay",
             "size": 10,
             "solidity": 0.2
            },
            "type": "scatter"
           }
          ],
          "scatter3d": [
           {
            "line": {
             "colorbar": {
              "outlinewidth": 0,
              "ticks": ""
             }
            },
            "marker": {
             "colorbar": {
              "outlinewidth": 0,
              "ticks": ""
             }
            },
            "type": "scatter3d"
           }
          ],
          "scattercarpet": [
           {
            "marker": {
             "colorbar": {
              "outlinewidth": 0,
              "ticks": ""
             }
            },
            "type": "scattercarpet"
           }
          ],
          "scattergeo": [
           {
            "marker": {
             "colorbar": {
              "outlinewidth": 0,
              "ticks": ""
             }
            },
            "type": "scattergeo"
           }
          ],
          "scattergl": [
           {
            "marker": {
             "colorbar": {
              "outlinewidth": 0,
              "ticks": ""
             }
            },
            "type": "scattergl"
           }
          ],
          "scattermapbox": [
           {
            "marker": {
             "colorbar": {
              "outlinewidth": 0,
              "ticks": ""
             }
            },
            "type": "scattermapbox"
           }
          ],
          "scatterpolar": [
           {
            "marker": {
             "colorbar": {
              "outlinewidth": 0,
              "ticks": ""
             }
            },
            "type": "scatterpolar"
           }
          ],
          "scatterpolargl": [
           {
            "marker": {
             "colorbar": {
              "outlinewidth": 0,
              "ticks": ""
             }
            },
            "type": "scatterpolargl"
           }
          ],
          "scatterternary": [
           {
            "marker": {
             "colorbar": {
              "outlinewidth": 0,
              "ticks": ""
             }
            },
            "type": "scatterternary"
           }
          ],
          "surface": [
           {
            "colorbar": {
             "outlinewidth": 0,
             "ticks": ""
            },
            "colorscale": [
             [
              0,
              "#0d0887"
             ],
             [
              0.1111111111111111,
              "#46039f"
             ],
             [
              0.2222222222222222,
              "#7201a8"
             ],
             [
              0.3333333333333333,
              "#9c179e"
             ],
             [
              0.4444444444444444,
              "#bd3786"
             ],
             [
              0.5555555555555556,
              "#d8576b"
             ],
             [
              0.6666666666666666,
              "#ed7953"
             ],
             [
              0.7777777777777778,
              "#fb9f3a"
             ],
             [
              0.8888888888888888,
              "#fdca26"
             ],
             [
              1,
              "#f0f921"
             ]
            ],
            "type": "surface"
           }
          ],
          "table": [
           {
            "cells": {
             "fill": {
              "color": "#EBF0F8"
             },
             "line": {
              "color": "white"
             }
            },
            "header": {
             "fill": {
              "color": "#C8D4E3"
             },
             "line": {
              "color": "white"
             }
            },
            "type": "table"
           }
          ]
         },
         "layout": {
          "annotationdefaults": {
           "arrowcolor": "#2a3f5f",
           "arrowhead": 0,
           "arrowwidth": 1
          },
          "autotypenumbers": "strict",
          "coloraxis": {
           "colorbar": {
            "outlinewidth": 0,
            "ticks": ""
           }
          },
          "colorscale": {
           "diverging": [
            [
             0,
             "#8e0152"
            ],
            [
             0.1,
             "#c51b7d"
            ],
            [
             0.2,
             "#de77ae"
            ],
            [
             0.3,
             "#f1b6da"
            ],
            [
             0.4,
             "#fde0ef"
            ],
            [
             0.5,
             "#f7f7f7"
            ],
            [
             0.6,
             "#e6f5d0"
            ],
            [
             0.7,
             "#b8e186"
            ],
            [
             0.8,
             "#7fbc41"
            ],
            [
             0.9,
             "#4d9221"
            ],
            [
             1,
             "#276419"
            ]
           ],
           "sequential": [
            [
             0,
             "#0d0887"
            ],
            [
             0.1111111111111111,
             "#46039f"
            ],
            [
             0.2222222222222222,
             "#7201a8"
            ],
            [
             0.3333333333333333,
             "#9c179e"
            ],
            [
             0.4444444444444444,
             "#bd3786"
            ],
            [
             0.5555555555555556,
             "#d8576b"
            ],
            [
             0.6666666666666666,
             "#ed7953"
            ],
            [
             0.7777777777777778,
             "#fb9f3a"
            ],
            [
             0.8888888888888888,
             "#fdca26"
            ],
            [
             1,
             "#f0f921"
            ]
           ],
           "sequentialminus": [
            [
             0,
             "#0d0887"
            ],
            [
             0.1111111111111111,
             "#46039f"
            ],
            [
             0.2222222222222222,
             "#7201a8"
            ],
            [
             0.3333333333333333,
             "#9c179e"
            ],
            [
             0.4444444444444444,
             "#bd3786"
            ],
            [
             0.5555555555555556,
             "#d8576b"
            ],
            [
             0.6666666666666666,
             "#ed7953"
            ],
            [
             0.7777777777777778,
             "#fb9f3a"
            ],
            [
             0.8888888888888888,
             "#fdca26"
            ],
            [
             1,
             "#f0f921"
            ]
           ]
          },
          "colorway": [
           "#636efa",
           "#EF553B",
           "#00cc96",
           "#ab63fa",
           "#FFA15A",
           "#19d3f3",
           "#FF6692",
           "#B6E880",
           "#FF97FF",
           "#FECB52"
          ],
          "font": {
           "color": "#2a3f5f"
          },
          "geo": {
           "bgcolor": "white",
           "lakecolor": "white",
           "landcolor": "#E5ECF6",
           "showlakes": true,
           "showland": true,
           "subunitcolor": "white"
          },
          "hoverlabel": {
           "align": "left"
          },
          "hovermode": "closest",
          "mapbox": {
           "style": "light"
          },
          "paper_bgcolor": "white",
          "plot_bgcolor": "#E5ECF6",
          "polar": {
           "angularaxis": {
            "gridcolor": "white",
            "linecolor": "white",
            "ticks": ""
           },
           "bgcolor": "#E5ECF6",
           "radialaxis": {
            "gridcolor": "white",
            "linecolor": "white",
            "ticks": ""
           }
          },
          "scene": {
           "xaxis": {
            "backgroundcolor": "#E5ECF6",
            "gridcolor": "white",
            "gridwidth": 2,
            "linecolor": "white",
            "showbackground": true,
            "ticks": "",
            "zerolinecolor": "white"
           },
           "yaxis": {
            "backgroundcolor": "#E5ECF6",
            "gridcolor": "white",
            "gridwidth": 2,
            "linecolor": "white",
            "showbackground": true,
            "ticks": "",
            "zerolinecolor": "white"
           },
           "zaxis": {
            "backgroundcolor": "#E5ECF6",
            "gridcolor": "white",
            "gridwidth": 2,
            "linecolor": "white",
            "showbackground": true,
            "ticks": "",
            "zerolinecolor": "white"
           }
          },
          "shapedefaults": {
           "line": {
            "color": "#2a3f5f"
           }
          },
          "ternary": {
           "aaxis": {
            "gridcolor": "white",
            "linecolor": "white",
            "ticks": ""
           },
           "baxis": {
            "gridcolor": "white",
            "linecolor": "white",
            "ticks": ""
           },
           "bgcolor": "#E5ECF6",
           "caxis": {
            "gridcolor": "white",
            "linecolor": "white",
            "ticks": ""
           }
          },
          "title": {
           "x": 0.05
          },
          "xaxis": {
           "automargin": true,
           "gridcolor": "white",
           "linecolor": "white",
           "ticks": "",
           "title": {
            "standoff": 15
           },
           "zerolinecolor": "white",
           "zerolinewidth": 2
          },
          "yaxis": {
           "automargin": true,
           "gridcolor": "white",
           "linecolor": "white",
           "ticks": "",
           "title": {
            "standoff": 15
           },
           "zerolinecolor": "white",
           "zerolinewidth": 2
          }
         }
        },
        "title": {
         "text": "Food vs Nutrients"
        },
        "xaxis": {
         "anchor": "y",
         "domain": [
          0,
          1
         ],
         "title": {
          "text": "Food"
         }
        },
        "yaxis": {
         "anchor": "x",
         "domain": [
          0,
          1
         ],
         "title": {
          "text": "Normalized Value"
         }
        }
       }
      }
     },
     "metadata": {},
     "output_type": "display_data"
    }
   ],
   "source": [
    "import pandas as pd\n",
    "import plotly.express as px\n",
    "\n",
    "def plot(data: pd.DataFrame, nutrient1: str,\n",
    "         nutrient2: str, nutrient3: str,\n",
    "         food1: str, food2: str, food3: str):\n",
    "        \n",
    "        \"\"\"Plots food vs nutrients\"\"\"\n",
    "        # make the pivot table for analysis food vs nutrient.\n",
    "        subtable = data.pivot_table(\"value\", index=\"food\", columns=[\"nutrient\"])\n",
    "        subtable = subtable.reindex(columns=[nutrient1, nutrient2, nutrient3], level=\"nutrient\")\n",
    "        subtable = subtable / subtable.sum()\n",
    "\n",
    "        # Create a Plotly bar plot\n",
    "        fig = px.bar(subtable.loc[[food1, food2, food3]].reset_index(), \n",
    "                     x='food', y=[nutrient1, nutrient2, nutrient3], \n",
    "                     labels={'value': 'Normalized Value'}, \n",
    "                     title='Food vs Nutrients',\n",
    "                     hover_name='food', hover_data={'value': True})\n",
    "        \n",
    "        # Set orientation to vertical\n",
    "        fig.update_layout(barmode='group')  # Display bars in groups\n",
    "        fig.update_xaxes(title_text=\"Food\")  # X-axis label\n",
    "        fig.update_yaxes(title_text=\"Normalized Value\")  # Y-axis label\n",
    "        \n",
    "        # Show the plot\n",
    "        fig.show()\n",
    "\n",
    "plot(ndata, \"Protein\", \"Energy\", \"Water\", \n",
    "     \"Cheese, caraway\", \"Babyfood, juice, pear\", \n",
    "     \"Sour dressing, non-butterfat, cultured, filled cream-type\")\n"
   ]
  },
  {
   "cell_type": "code",
   "execution_count": null,
   "metadata": {},
   "outputs": [],
   "source": []
  }
 ],
 "metadata": {
  "kernelspec": {
   "display_name": "base",
   "language": "python",
   "name": "python3"
  },
  "language_info": {
   "codemirror_mode": {
    "name": "ipython",
    "version": 3
   },
   "file_extension": ".py",
   "mimetype": "text/x-python",
   "name": "python",
   "nbconvert_exporter": "python",
   "pygments_lexer": "ipython3",
   "version": "3.11.5"
  }
 },
 "nbformat": 4,
 "nbformat_minor": 2
}
